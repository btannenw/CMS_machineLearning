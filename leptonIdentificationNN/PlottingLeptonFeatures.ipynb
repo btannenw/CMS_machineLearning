{
 "cells": [
  {
   "cell_type": "markdown",
   "metadata": {},
   "source": [
    "# Plotting Lepton Features\n",
    "## Background\n",
    "The purpose of these plots is to show the distribution of lepton features for the purpose of better selecting neural network training data, and informing how well the network should train on a given dataset.\n",
    "## Procedure\n",
    "### Phase 1\n",
    "Plot lepton features without modifications to see distributions.\n",
    "### Phase 2 \n",
    "Made modifications to the lepton data to allow for plotting such that the plots of each lepton flavor can be compared. \n",
    "### Phase 3 \n",
    "Plot both electron and muon plots on same plot to see overlap"
   ]
  },
  {
   "cell_type": "code",
   "execution_count": 215,
   "metadata": {},
   "outputs": [],
   "source": [
    "# Package imports\n",
    "import numpy as np\n",
    "# Matplotlib is a matlab like plotting library\n",
    "import matplotlib\n",
    "from matplotlib import pyplot as plt"
   ]
  },
  {
   "cell_type": "code",
   "execution_count": 216,
   "metadata": {},
   "outputs": [],
   "source": [
    "# pt eta phi E\n",
    "from DataExtraction import dataNoMass\n",
    "from DataExtraction import labels"
   ]
  },
  {
   "cell_type": "code",
   "execution_count": 217,
   "metadata": {},
   "outputs": [],
   "source": [
    "ms = [] # array of muons\n",
    "es = [] # array of electrons"
   ]
  },
  {
   "cell_type": "code",
   "execution_count": 218,
   "metadata": {},
   "outputs": [],
   "source": [
    "for lept, im in zip(dataNoMass, labels):\n",
    "    if(im==1): \n",
    "        ms.append(lept)\n",
    "    if(im==0):\n",
    "        es.append(lept)"
   ]
  },
  {
   "cell_type": "code",
   "execution_count": 219,
   "metadata": {},
   "outputs": [],
   "source": [
    "ms = np.array(ms)\n",
    "es = np.array(es)"
   ]
  },
  {
   "cell_type": "code",
   "execution_count": 304,
   "metadata": {},
   "outputs": [],
   "source": [
    "# set plot colors\n",
    "mc = (0.0, 0.1, 0.9, 0.4)\n",
    "ec = (0.9, 0.1, 0.0, 0.7)"
   ]
  },
  {
   "cell_type": "code",
   "execution_count": 305,
   "metadata": {},
   "outputs": [
    {
     "data": {
      "text/plain": [
       "(array([2.980e+03, 3.639e+03, 3.847e+03, 3.904e+03, 3.689e+03, 3.066e+03,\n",
       "        2.939e+03, 2.602e+03, 2.084e+03, 1.814e+03, 1.562e+03, 1.239e+03,\n",
       "        9.910e+02, 8.990e+02, 7.240e+02, 5.910e+02, 5.120e+02, 4.100e+02,\n",
       "        3.490e+02, 2.890e+02, 2.380e+02, 2.090e+02, 1.650e+02, 1.320e+02,\n",
       "        1.160e+02, 9.900e+01, 7.500e+01, 7.600e+01, 6.400e+01, 5.500e+01,\n",
       "        4.800e+01, 3.900e+01, 2.100e+01, 2.900e+01, 3.400e+01, 1.900e+01,\n",
       "        2.300e+01, 1.500e+01, 1.000e+01, 7.000e+00, 1.900e+01, 1.000e+01,\n",
       "        1.100e+01, 1.000e+01, 1.000e+01, 5.000e+00, 6.000e+00, 2.000e+00,\n",
       "        3.000e+00, 4.000e+00, 1.000e+00, 5.000e+00, 3.000e+00, 1.000e+00,\n",
       "        3.000e+00, 4.000e+00, 6.000e+00, 3.000e+00, 2.000e+00, 4.000e+00,\n",
       "        0.000e+00, 0.000e+00, 0.000e+00, 1.000e+00, 0.000e+00, 0.000e+00,\n",
       "        1.000e+00, 0.000e+00, 0.000e+00, 0.000e+00, 0.000e+00, 0.000e+00,\n",
       "        0.000e+00, 0.000e+00, 0.000e+00, 0.000e+00, 0.000e+00, 0.000e+00,\n",
       "        0.000e+00, 1.000e+00, 0.000e+00, 0.000e+00, 0.000e+00, 0.000e+00,\n",
       "        0.000e+00, 0.000e+00, 0.000e+00, 0.000e+00, 0.000e+00, 0.000e+00,\n",
       "        0.000e+00, 0.000e+00, 0.000e+00, 1.000e+00, 0.000e+00, 0.000e+00,\n",
       "        0.000e+00, 0.000e+00, 0.000e+00, 1.000e+00]),\n",
       " array([ 15.00047398,  21.42938708,  27.85830019,  34.2872133 ,\n",
       "         40.7161264 ,  47.14503951,  53.57395262,  60.00286572,\n",
       "         66.43177883,  72.86069194,  79.28960505,  85.71851815,\n",
       "         92.14743126,  98.57634437, 105.00525747, 111.43417058,\n",
       "        117.86308369, 124.29199679, 130.7209099 , 137.14982301,\n",
       "        143.57873611, 150.00764922, 156.43656233, 162.86547544,\n",
       "        169.29438854, 175.72330165, 182.15221476, 188.58112786,\n",
       "        195.01004097, 201.43895408, 207.86786718, 214.29678029,\n",
       "        220.7256934 , 227.1546065 , 233.58351961, 240.01243272,\n",
       "        246.44134583, 252.87025893, 259.29917204, 265.72808515,\n",
       "        272.15699825, 278.58591136, 285.01482447, 291.44373757,\n",
       "        297.87265068, 304.30156379, 310.73047689, 317.15939   ,\n",
       "        323.58830311, 330.01721622, 336.44612932, 342.87504243,\n",
       "        349.30395554, 355.73286864, 362.16178175, 368.59069486,\n",
       "        375.01960796, 381.44852107, 387.87743418, 394.30634728,\n",
       "        400.73526039, 407.1641735 , 413.59308661, 420.02199971,\n",
       "        426.45091282, 432.87982593, 439.30873903, 445.73765214,\n",
       "        452.16656525, 458.59547835, 465.02439146, 471.45330457,\n",
       "        477.88221767, 484.31113078, 490.74004389, 497.168957  ,\n",
       "        503.5978701 , 510.02678321, 516.45569632, 522.88460942,\n",
       "        529.31352253, 535.74243564, 542.17134874, 548.60026185,\n",
       "        555.02917496, 561.45808806, 567.88700117, 574.31591428,\n",
       "        580.74482738, 587.17374049, 593.6026536 , 600.03156671,\n",
       "        606.46047981, 612.88939292, 619.31830603, 625.74721913,\n",
       "        632.17613224, 638.60504535, 645.03395845, 651.46287156,\n",
       "        657.89178467]),\n",
       " <a list of 100 Patch objects>)"
      ]
     },
     "execution_count": 305,
     "metadata": {},
     "output_type": "execute_result"
    },
    {
     "data": {
      "image/png": "[encoded data removed]",
      "text/plain": [
       "<Figure size 432x288 with 2 Axes>"
      ]
     },
     "metadata": {
      "needs_background": "light"
     },
     "output_type": "display_data"
    }
   ],
   "source": [
    "# Phase 1 plot\n",
    "plt.title(\"Lepton Transverse Momentum\")\n",
    "plt.subplot(1,2,1)\n",
    "plt.title(\"Muon pt\")\n",
    "plt.hist(ms[:,0], label=\"Muons\", color=mc, bins=100)\n",
    "plt.subplot(1,2,2)\n",
    "plt.title(\"Electron pt\")\n",
    "plt.hist(es[:,0], label=\"Electrons\", color=ec, bins=100)"
   ]
  },
  {
   "cell_type": "code",
   "execution_count": 317,
   "metadata": {},
   "outputs": [
    {
     "data": {
      "text/plain": [
       "(array([1.715e+03, 1.970e+03, 2.193e+03, 2.280e+03, 2.280e+03, 2.343e+03,\n",
       "        2.308e+03, 2.217e+03, 2.010e+03, 1.766e+03, 1.802e+03, 1.679e+03,\n",
       "        1.570e+03, 1.374e+03, 1.203e+03, 1.156e+03, 9.730e+02, 9.630e+02,\n",
       "        8.340e+02, 6.930e+02, 6.260e+02, 5.510e+02, 5.390e+02, 5.120e+02,\n",
       "        4.000e+02, 3.450e+02, 3.570e+02, 3.160e+02, 2.680e+02, 2.380e+02,\n",
       "        2.060e+02, 2.070e+02, 1.780e+02, 1.420e+02, 1.380e+02, 1.380e+02,\n",
       "        1.160e+02, 9.800e+01, 8.800e+01, 8.100e+01, 5.700e+01, 6.700e+01,\n",
       "        5.500e+01, 5.800e+01, 4.800e+01, 3.800e+01, 5.200e+01, 4.100e+01,\n",
       "        3.600e+01, 3.000e+01, 3.100e+01, 2.600e+01, 2.500e+01, 1.800e+01,\n",
       "        1.100e+01, 1.700e+01, 1.900e+01, 2.100e+01, 1.100e+01, 1.300e+01,\n",
       "        1.300e+01, 1.400e+01, 1.200e+01, 5.000e+00, 4.000e+00, 7.000e+00,\n",
       "        3.000e+00, 1.100e+01, 1.300e+01, 4.000e+00, 8.000e+00, 4.000e+00,\n",
       "        5.000e+00, 7.000e+00, 5.000e+00, 7.000e+00, 0.000e+00, 5.000e+00,\n",
       "        1.000e+00, 1.000e+00, 4.000e+00, 0.000e+00, 3.000e+00, 2.000e+00,\n",
       "        0.000e+00, 3.000e+00, 3.000e+00, 1.000e+00, 1.000e+00, 1.000e+00,\n",
       "        1.000e+00, 2.000e+00, 2.000e+00, 3.000e+00, 4.000e+00, 4.000e+00,\n",
       "        0.000e+00, 1.000e+00, 3.000e+00, 2.000e+00]),\n",
       " array([ 15.00047398,  18.84735705,  22.69424013,  26.54112321,\n",
       "         30.38800629,  34.23488936,  38.08177244,  41.92865552,\n",
       "         45.7755386 ,  49.62242167,  53.46930475,  57.31618783,\n",
       "         61.16307091,  65.00995399,  68.85683706,  72.70372014,\n",
       "         76.55060322,  80.3974863 ,  84.24436937,  88.09125245,\n",
       "         91.93813553,  95.78501861,  99.63190168, 103.47878476,\n",
       "        107.32566784, 111.17255092, 115.01943399, 118.86631707,\n",
       "        122.71320015, 126.56008323, 130.4069663 , 134.25384938,\n",
       "        138.10073246, 141.94761554, 145.79449862, 149.64138169,\n",
       "        153.48826477, 157.33514785, 161.18203093, 165.028914  ,\n",
       "        168.87579708, 172.72268016, 176.56956324, 180.41644631,\n",
       "        184.26332939, 188.11021247, 191.95709555, 195.80397862,\n",
       "        199.6508617 , 203.49774478, 207.34462786, 211.19151093,\n",
       "        215.03839401, 218.88527709, 222.73216017, 226.57904325,\n",
       "        230.42592632, 234.2728094 , 238.11969248, 241.96657556,\n",
       "        245.81345863, 249.66034171, 253.50722479, 257.35410787,\n",
       "        261.20099094, 265.04787402, 268.8947571 , 272.74164018,\n",
       "        276.58852325, 280.43540633, 284.28228941, 288.12917249,\n",
       "        291.97605556, 295.82293864, 299.66982172, 303.5167048 ,\n",
       "        307.36358788, 311.21047095, 315.05735403, 318.90423711,\n",
       "        322.75112019, 326.59800326, 330.44488634, 334.29176942,\n",
       "        338.1386525 , 341.98553557, 345.83241865, 349.67930173,\n",
       "        353.52618481, 357.37306788, 361.21995096, 365.06683404,\n",
       "        368.91371712, 372.76060019, 376.60748327, 380.45436635,\n",
       "        384.30124943, 388.14813251, 391.99501558, 395.84189866,\n",
       "        399.68878174]),\n",
       " <a list of 100 Patch objects>)"
      ]
     },
     "execution_count": 317,
     "metadata": {},
     "output_type": "execute_result"
    },
    {
     "data": {
      "image/png": "[encoded data removed]",
      "text/plain": [
       "<Figure size 432x288 with 2 Axes>"
      ]
     },
     "metadata": {
      "needs_background": "light"
     },
     "output_type": "display_data"
    }
   ],
   "source": [
    "##### Phase 2 plot\n",
    "# todo: figure out why the density flag isn't working\n",
    "# todo: count number of discarded muon values bc the shape up there is really interesting\n",
    "# discarded muon values above 50000, found that should delete above 5000\n",
    "# discarded muon values above 5000, found that should delete above 2000\n",
    "# discarded muon values above 2000, found that should delete above 750\n",
    "# discarded muon values above 750, found that should delete above 450\n",
    "# discarded electron values above 450\n",
    "# discarded electron and muon values above 400\n",
    "# made axis limits the same for both \n",
    "\n",
    "# prune muon data\n",
    "mpts = []\n",
    "for m in ms: \n",
    "    if(m[0]<400):\n",
    "        mpts.append(m[0])\n",
    "mpts = np.array(mpts)\n",
    "\n",
    "# prune electron data\n",
    "epts = []\n",
    "for e in es: \n",
    "    if(e[0]<400):\n",
    "        epts.append(e[0])\n",
    "epts = np.array(epts)\n",
    "\n",
    "plt.title(\"Lepton Transverse Momentum\")\n",
    "plt.subplot(1,2,1)\n",
    "plt.ylim(0,2500)\n",
    "plt.title(\"Muon pt\")\n",
    "plt.hist(mpts, label=\"Muons\", color=mc, bins=100)\n",
    "plt.subplot(1,2,2)\n",
    "plt.ylim(0,2500)\n",
    "plt.title(\"Electron pt\")\n",
    "plt.hist(epts, label=\"Electrons\", color=ec, bins=100)"
   ]
  },
  {
   "cell_type": "code",
   "execution_count": 307,
   "metadata": {},
   "outputs": [
    {
     "data": {
      "text/plain": [
       "<matplotlib.legend.Legend at 0x156320ba8>"
      ]
     },
     "execution_count": 307,
     "metadata": {},
     "output_type": "execute_result"
    },
    {
     "data": {
      "image/png": "[encoded data removed]",
      "text/plain": [
       "<Figure size 432x288 with 1 Axes>"
      ]
     },
     "metadata": {
      "needs_background": "light"
     },
     "output_type": "display_data"
    }
   ],
   "source": [
    "# Phase 3 plot\n",
    "plt.title(\"Lepton Transverse Momentum\")\n",
    "plt.ylim(0,2500)\n",
    "plt.hist(epts, label=\"Electrons\", color=ec, bins=100)\n",
    "plt.hist(mpts, label=\"Muons\", color=mc, bins=100)\n",
    "plt.legend()"
   ]
  },
  {
   "cell_type": "code",
   "execution_count": 308,
   "metadata": {},
   "outputs": [
    {
     "data": {
      "text/plain": [
       "(array([143., 156., 150., 186., 171., 198., 204., 230., 249., 269., 241.,\n",
       "        298., 270., 308., 296., 330., 328., 299., 137., 283., 391., 362.,\n",
       "        362., 381., 448., 454., 414., 480., 487., 487., 517., 477., 492.,\n",
       "        503., 503., 504., 566., 542., 554., 556., 521., 547., 544., 599.,\n",
       "        571., 552., 558., 591., 561., 571., 565., 594., 601., 599., 583.,\n",
       "        599., 601., 571., 528., 571., 585., 549., 578., 524., 517., 500.,\n",
       "        512., 507., 472., 469., 431., 464., 464., 409., 445., 399., 360.,\n",
       "        370., 383., 369., 250., 149., 284., 337., 335., 311., 257., 264.,\n",
       "        252., 259., 265., 249., 220., 227., 215., 214., 196., 166., 162.,\n",
       "        149.]),\n",
       " array([-2.39981532e+00, -2.35182317e+00, -2.30383102e+00, -2.25583887e+00,\n",
       "        -2.20784672e+00, -2.15985457e+00, -2.11186242e+00, -2.06387027e+00,\n",
       "        -2.01587811e+00, -1.96788596e+00, -1.91989381e+00, -1.87190166e+00,\n",
       "        -1.82390951e+00, -1.77591736e+00, -1.72792521e+00, -1.67993306e+00,\n",
       "        -1.63194091e+00, -1.58394876e+00, -1.53595661e+00, -1.48796446e+00,\n",
       "        -1.43997231e+00, -1.39198015e+00, -1.34398800e+00, -1.29599585e+00,\n",
       "        -1.24800370e+00, -1.20001155e+00, -1.15201940e+00, -1.10402725e+00,\n",
       "        -1.05603510e+00, -1.00804295e+00, -9.60050797e-01, -9.12058647e-01,\n",
       "        -8.64066496e-01, -8.16074345e-01, -7.68082194e-01, -7.20090044e-01,\n",
       "        -6.72097893e-01, -6.24105742e-01, -5.76113591e-01, -5.28121440e-01,\n",
       "        -4.80129290e-01, -4.32137139e-01, -3.84144988e-01, -3.36152837e-01,\n",
       "        -2.88160686e-01, -2.40168536e-01, -1.92176385e-01, -1.44184234e-01,\n",
       "        -9.61920834e-02, -4.81999326e-02, -2.07781792e-04,  4.77843690e-02,\n",
       "         9.57765198e-02,  1.43768671e-01,  1.91760821e-01,  2.39752972e-01,\n",
       "         2.87745123e-01,  3.35737274e-01,  3.83729424e-01,  4.31721575e-01,\n",
       "         4.79713726e-01,  5.27705877e-01,  5.75698028e-01,  6.23690178e-01,\n",
       "         6.71682329e-01,  7.19674480e-01,  7.67666631e-01,  8.15658782e-01,\n",
       "         8.63650932e-01,  9.11643083e-01,  9.59635234e-01,  1.00762738e+00,\n",
       "         1.05561954e+00,  1.10361169e+00,  1.15160384e+00,  1.19959599e+00,\n",
       "         1.24758814e+00,  1.29558029e+00,  1.34357244e+00,  1.39156459e+00,\n",
       "         1.43955674e+00,  1.48754889e+00,  1.53554104e+00,  1.58353319e+00,\n",
       "         1.63152534e+00,  1.67951750e+00,  1.72750965e+00,  1.77550180e+00,\n",
       "         1.82349395e+00,  1.87148610e+00,  1.91947825e+00,  1.96747040e+00,\n",
       "         2.01546255e+00,  2.06345470e+00,  2.11144685e+00,  2.15943900e+00,\n",
       "         2.20743115e+00,  2.25542331e+00,  2.30341546e+00,  2.35140761e+00,\n",
       "         2.39939976e+00]),\n",
       " <a list of 100 Patch objects>)"
      ]
     },
     "execution_count": 308,
     "metadata": {},
     "output_type": "execute_result"
    },
    {
     "data": {
      "image/png": "[encoded data removed]",
      "text/plain": [
       "<Figure size 432x288 with 2 Axes>"
      ]
     },
     "metadata": {
      "needs_background": "light"
     },
     "output_type": "display_data"
    }
   ],
   "source": [
    "# Phase 1 plot\n",
    "plt.subplot(1,2,1)\n",
    "plt.title(\"Muon Eta\")\n",
    "plt.hist(ms[:,1], label=\"Muons\", color=mc, bins=100)\n",
    "plt.subplot(1,2,2)\n",
    "plt.title(\"Electron Eta\")\n",
    "plt.hist(es[:,1], label=\"Electrons\", color=ec, bins=100)\n",
    "# plt.plot(es[:,3], label=\"Electrons\", color=ec)\n",
    "#plt.legend()"
   ]
  },
  {
   "cell_type": "code",
   "execution_count": 309,
   "metadata": {},
   "outputs": [
    {
     "data": {
      "text/plain": [
       "(array([143., 156., 150., 186., 171., 198., 204., 230., 249., 269., 241.,\n",
       "        298., 270., 308., 296., 330., 328., 299., 137., 283., 391., 362.,\n",
       "        362., 381., 448., 454., 414., 480., 487., 487., 517., 477., 492.,\n",
       "        503., 503., 504., 566., 542., 554., 556., 521., 547., 544., 599.,\n",
       "        571., 552., 558., 591., 561., 571., 565., 594., 601., 599., 583.,\n",
       "        599., 601., 571., 528., 571., 585., 549., 578., 524., 517., 500.,\n",
       "        512., 507., 472., 469., 431., 464., 464., 409., 445., 399., 360.,\n",
       "        370., 383., 369., 250., 149., 284., 337., 335., 311., 257., 264.,\n",
       "        252., 259., 265., 249., 220., 227., 215., 214., 196., 166., 162.,\n",
       "        149.]),\n",
       " array([-2.39981532e+00, -2.35182317e+00, -2.30383102e+00, -2.25583887e+00,\n",
       "        -2.20784672e+00, -2.15985457e+00, -2.11186242e+00, -2.06387027e+00,\n",
       "        -2.01587811e+00, -1.96788596e+00, -1.91989381e+00, -1.87190166e+00,\n",
       "        -1.82390951e+00, -1.77591736e+00, -1.72792521e+00, -1.67993306e+00,\n",
       "        -1.63194091e+00, -1.58394876e+00, -1.53595661e+00, -1.48796446e+00,\n",
       "        -1.43997231e+00, -1.39198015e+00, -1.34398800e+00, -1.29599585e+00,\n",
       "        -1.24800370e+00, -1.20001155e+00, -1.15201940e+00, -1.10402725e+00,\n",
       "        -1.05603510e+00, -1.00804295e+00, -9.60050797e-01, -9.12058647e-01,\n",
       "        -8.64066496e-01, -8.16074345e-01, -7.68082194e-01, -7.20090044e-01,\n",
       "        -6.72097893e-01, -6.24105742e-01, -5.76113591e-01, -5.28121440e-01,\n",
       "        -4.80129290e-01, -4.32137139e-01, -3.84144988e-01, -3.36152837e-01,\n",
       "        -2.88160686e-01, -2.40168536e-01, -1.92176385e-01, -1.44184234e-01,\n",
       "        -9.61920834e-02, -4.81999326e-02, -2.07781792e-04,  4.77843690e-02,\n",
       "         9.57765198e-02,  1.43768671e-01,  1.91760821e-01,  2.39752972e-01,\n",
       "         2.87745123e-01,  3.35737274e-01,  3.83729424e-01,  4.31721575e-01,\n",
       "         4.79713726e-01,  5.27705877e-01,  5.75698028e-01,  6.23690178e-01,\n",
       "         6.71682329e-01,  7.19674480e-01,  7.67666631e-01,  8.15658782e-01,\n",
       "         8.63650932e-01,  9.11643083e-01,  9.59635234e-01,  1.00762738e+00,\n",
       "         1.05561954e+00,  1.10361169e+00,  1.15160384e+00,  1.19959599e+00,\n",
       "         1.24758814e+00,  1.29558029e+00,  1.34357244e+00,  1.39156459e+00,\n",
       "         1.43955674e+00,  1.48754889e+00,  1.53554104e+00,  1.58353319e+00,\n",
       "         1.63152534e+00,  1.67951750e+00,  1.72750965e+00,  1.77550180e+00,\n",
       "         1.82349395e+00,  1.87148610e+00,  1.91947825e+00,  1.96747040e+00,\n",
       "         2.01546255e+00,  2.06345470e+00,  2.11144685e+00,  2.15943900e+00,\n",
       "         2.20743115e+00,  2.25542331e+00,  2.30341546e+00,  2.35140761e+00,\n",
       "         2.39939976e+00]),\n",
       " <a list of 100 Patch objects>)"
      ]
     },
     "execution_count": 309,
     "metadata": {},
     "output_type": "execute_result"
    },
    {
     "data": {
      "image/png": "[encoded data removed]",
      "text/plain": [
       "<Figure size 432x288 with 2 Axes>"
      ]
     },
     "metadata": {
      "needs_background": "light"
     },
     "output_type": "display_data"
    }
   ],
   "source": [
    "# Phase 2 plot\n",
    "# standardized plot axes \n",
    "plt.subplot(1,2,1)\n",
    "plt.ylim(0, 640)\n",
    "plt.xlim(-2.5, 2.5)\n",
    "plt.title(\"Muon Eta\")\n",
    "plt.hist(ms[:,1], label=\"Muons\", color=mc, bins=100)\n",
    "plt.subplot(1,2,2)\n",
    "plt.ylim(0, 640)\n",
    "plt.xlim(-2.5, 2.5)\n",
    "plt.title(\"Electron Eta\")\n",
    "plt.hist(es[:,1], label=\"Electrons\", color=ec, bins=100)\n",
    "# plt.plot(es[:,3], label=\"Electrons\", color=ec)\n",
    "#plt.legend()"
   ]
  },
  {
   "cell_type": "code",
   "execution_count": 310,
   "metadata": {},
   "outputs": [
    {
     "data": {
      "text/plain": [
       "<matplotlib.legend.Legend at 0x156bd3fd0>"
      ]
     },
     "execution_count": 310,
     "metadata": {},
     "output_type": "execute_result"
    },
    {
     "data": {
      "image/png": "[encoded data removed]",
      "text/plain": [
       "<Figure size 432x288 with 1 Axes>"
      ]
     },
     "metadata": {
      "needs_background": "light"
     },
     "output_type": "display_data"
    }
   ],
   "source": [
    "# Phase 3 plot\n",
    "plt.ylim(0, 640)\n",
    "plt.xlim(-2.5, 2.5)\n",
    "plt.title(\"Lepton Eta Distribution\")\n",
    "plt.hist(es[:,1], label=\"Electrons\", color=ec, bins=100)\n",
    "plt.hist(ms[:,1], label=\"Muons\", color=mc, bins=100)\n",
    "plt.legend()"
   ]
  },
  {
   "cell_type": "code",
   "execution_count": 311,
   "metadata": {},
   "outputs": [
    {
     "data": {
      "text/plain": [
       "(array([402., 394., 404., 388., 390., 421., 427., 406., 426., 407., 397.,\n",
       "        428., 393., 414., 389., 386., 387., 421., 397., 389., 415., 382.,\n",
       "        411., 409., 388., 424., 411., 371., 437., 381., 375., 397., 411.,\n",
       "        409., 403., 387., 437., 405., 381., 388., 408., 396., 394., 401.,\n",
       "        387., 414., 397., 404., 423., 405., 413., 409., 377., 395., 402.,\n",
       "        403., 403., 384., 392., 377., 406., 361., 369., 417., 375., 373.,\n",
       "        356., 406., 424., 387., 385., 413., 454., 349., 415., 404., 394.,\n",
       "        396., 381., 413., 378., 384., 433., 430., 388., 403., 375., 356.,\n",
       "        399., 402., 435., 340., 436., 372., 370., 342., 349., 405., 390.,\n",
       "        384.]),\n",
       " array([-3.14097357e+00, -3.07814862e+00, -3.01532367e+00, -2.95249872e+00,\n",
       "        -2.88967377e+00, -2.82684882e+00, -2.76402387e+00, -2.70119892e+00,\n",
       "        -2.63837397e+00, -2.57554902e+00, -2.51272407e+00, -2.44989912e+00,\n",
       "        -2.38707417e+00, -2.32424922e+00, -2.26142426e+00, -2.19859931e+00,\n",
       "        -2.13577436e+00, -2.07294941e+00, -2.01012446e+00, -1.94729951e+00,\n",
       "        -1.88447456e+00, -1.82164961e+00, -1.75882466e+00, -1.69599971e+00,\n",
       "        -1.63317476e+00, -1.57034981e+00, -1.50752486e+00, -1.44469991e+00,\n",
       "        -1.38187496e+00, -1.31905001e+00, -1.25622506e+00, -1.19340011e+00,\n",
       "        -1.13057516e+00, -1.06775021e+00, -1.00492526e+00, -9.42100310e-01,\n",
       "        -8.79275360e-01, -8.16450410e-01, -7.53625460e-01, -6.90800509e-01,\n",
       "        -6.27975559e-01, -5.65150609e-01, -5.02325659e-01, -4.39500709e-01,\n",
       "        -3.76675758e-01, -3.13850808e-01, -2.51025858e-01, -1.88200908e-01,\n",
       "        -1.25375957e-01, -6.25510073e-02,  2.73942947e-04,  6.30988932e-02,\n",
       "         1.25923843e-01,  1.88748794e-01,  2.51573744e-01,  3.14398694e-01,\n",
       "         3.77223644e-01,  4.40048594e-01,  5.02873545e-01,  5.65698495e-01,\n",
       "         6.28523445e-01,  6.91348395e-01,  7.54173346e-01,  8.16998296e-01,\n",
       "         8.79823246e-01,  9.42648196e-01,  1.00547315e+00,  1.06829810e+00,\n",
       "         1.13112305e+00,  1.19394800e+00,  1.25677295e+00,  1.31959790e+00,\n",
       "         1.38242285e+00,  1.44524780e+00,  1.50807275e+00,  1.57089770e+00,\n",
       "         1.63372265e+00,  1.69654760e+00,  1.75937255e+00,  1.82219750e+00,\n",
       "         1.88502245e+00,  1.94784740e+00,  2.01067235e+00,  2.07349730e+00,\n",
       "         2.13632225e+00,  2.19914720e+00,  2.26197215e+00,  2.32479710e+00,\n",
       "         2.38762205e+00,  2.45044700e+00,  2.51327195e+00,  2.57609690e+00,\n",
       "         2.63892185e+00,  2.70174680e+00,  2.76457175e+00,  2.82739670e+00,\n",
       "         2.89022165e+00,  2.95304660e+00,  3.01587155e+00,  3.07869650e+00,\n",
       "         3.14152145e+00]),\n",
       " <a list of 100 Patch objects>)"
      ]
     },
     "execution_count": 311,
     "metadata": {},
     "output_type": "execute_result"
    },
    {
     "data": {
      "image/png": "[encoded data removed]",
      "text/plain": [
       "<Figure size 432x288 with 2 Axes>"
      ]
     },
     "metadata": {
      "needs_background": "light"
     },
     "output_type": "display_data"
    }
   ],
   "source": [
    "# Phase 1 plot\n",
    "plt.title(\"Lepton Phi\")\n",
    "plt.subplot(1,2,1)\n",
    "plt.title(\"Muon Phi\")\n",
    "plt.hist(ms[:,2], label=\"Muons\", color=mc, bins=100)\n",
    "plt.subplot(1,2,2)\n",
    "plt.title(\"Electron Phi\")\n",
    "plt.hist(es[:,2], label=\"Electrons\", color=ec, bins=100)"
   ]
  },
  {
   "cell_type": "code",
   "execution_count": 312,
   "metadata": {},
   "outputs": [
    {
     "data": {
      "text/plain": [
       "(array([402., 394., 404., 388., 390., 421., 427., 406., 426., 407., 397.,\n",
       "        428., 393., 414., 389., 386., 387., 421., 397., 389., 415., 382.,\n",
       "        411., 409., 388., 424., 411., 371., 437., 381., 375., 397., 411.,\n",
       "        409., 403., 387., 437., 405., 381., 388., 408., 396., 394., 401.,\n",
       "        387., 414., 397., 404., 423., 405., 413., 409., 377., 395., 402.,\n",
       "        403., 403., 384., 392., 377., 406., 361., 369., 417., 375., 373.,\n",
       "        356., 406., 424., 387., 385., 413., 454., 349., 415., 404., 394.,\n",
       "        396., 381., 413., 378., 384., 433., 430., 388., 403., 375., 356.,\n",
       "        399., 402., 435., 340., 436., 372., 370., 342., 349., 405., 390.,\n",
       "        384.]),\n",
       " array([-3.14097357e+00, -3.07814862e+00, -3.01532367e+00, -2.95249872e+00,\n",
       "        -2.88967377e+00, -2.82684882e+00, -2.76402387e+00, -2.70119892e+00,\n",
       "        -2.63837397e+00, -2.57554902e+00, -2.51272407e+00, -2.44989912e+00,\n",
       "        -2.38707417e+00, -2.32424922e+00, -2.26142426e+00, -2.19859931e+00,\n",
       "        -2.13577436e+00, -2.07294941e+00, -2.01012446e+00, -1.94729951e+00,\n",
       "        -1.88447456e+00, -1.82164961e+00, -1.75882466e+00, -1.69599971e+00,\n",
       "        -1.63317476e+00, -1.57034981e+00, -1.50752486e+00, -1.44469991e+00,\n",
       "        -1.38187496e+00, -1.31905001e+00, -1.25622506e+00, -1.19340011e+00,\n",
       "        -1.13057516e+00, -1.06775021e+00, -1.00492526e+00, -9.42100310e-01,\n",
       "        -8.79275360e-01, -8.16450410e-01, -7.53625460e-01, -6.90800509e-01,\n",
       "        -6.27975559e-01, -5.65150609e-01, -5.02325659e-01, -4.39500709e-01,\n",
       "        -3.76675758e-01, -3.13850808e-01, -2.51025858e-01, -1.88200908e-01,\n",
       "        -1.25375957e-01, -6.25510073e-02,  2.73942947e-04,  6.30988932e-02,\n",
       "         1.25923843e-01,  1.88748794e-01,  2.51573744e-01,  3.14398694e-01,\n",
       "         3.77223644e-01,  4.40048594e-01,  5.02873545e-01,  5.65698495e-01,\n",
       "         6.28523445e-01,  6.91348395e-01,  7.54173346e-01,  8.16998296e-01,\n",
       "         8.79823246e-01,  9.42648196e-01,  1.00547315e+00,  1.06829810e+00,\n",
       "         1.13112305e+00,  1.19394800e+00,  1.25677295e+00,  1.31959790e+00,\n",
       "         1.38242285e+00,  1.44524780e+00,  1.50807275e+00,  1.57089770e+00,\n",
       "         1.63372265e+00,  1.69654760e+00,  1.75937255e+00,  1.82219750e+00,\n",
       "         1.88502245e+00,  1.94784740e+00,  2.01067235e+00,  2.07349730e+00,\n",
       "         2.13632225e+00,  2.19914720e+00,  2.26197215e+00,  2.32479710e+00,\n",
       "         2.38762205e+00,  2.45044700e+00,  2.51327195e+00,  2.57609690e+00,\n",
       "         2.63892185e+00,  2.70174680e+00,  2.76457175e+00,  2.82739670e+00,\n",
       "         2.89022165e+00,  2.95304660e+00,  3.01587155e+00,  3.07869650e+00,\n",
       "         3.14152145e+00]),\n",
       " <a list of 100 Patch objects>)"
      ]
     },
     "execution_count": 312,
     "metadata": {},
     "output_type": "execute_result"
    },
    {
     "data": {
      "image/png": "[encoded data removed]",
      "text/plain": [
       "<Figure size 432x288 with 2 Axes>"
      ]
     },
     "metadata": {
      "needs_background": "light"
     },
     "output_type": "display_data"
    }
   ],
   "source": [
    "# Phase 2 plot\n",
    "# standardized plot axes, but it clearly didn't need it\n",
    "# todo: figure out why density=1 doesn't work \n",
    "mphis = ms[:,2]\n",
    "ephis = es[:,2]\n",
    "plt.title(\"Lepton Phi\")\n",
    "plt.subplot(1,2,1)\n",
    "plt.ylim(0, 460)\n",
    "plt.xlim(-3.3, 3.3)\n",
    "plt.title(\"Muon Phi\")\n",
    "plt.hist(mphis, label=\"Muons\", color=mc, bins=100)\n",
    "plt.subplot(1,2,2)\n",
    "plt.ylim(0, 460)\n",
    "plt.xlim(-3.3, 3.3)\n",
    "plt.title(\"Electron Phi\")\n",
    "plt.hist(ephis, label=\"Electrons\", color=ec, bins=100)"
   ]
  },
  {
   "cell_type": "code",
   "execution_count": 313,
   "metadata": {},
   "outputs": [
    {
     "data": {
      "text/plain": [
       "<matplotlib.legend.Legend at 0x157302080>"
      ]
     },
     "execution_count": 313,
     "metadata": {},
     "output_type": "execute_result"
    },
    {
     "data": {
      "image/png": "[encoded data removed]",
      "text/plain": [
       "<Figure size 432x288 with 1 Axes>"
      ]
     },
     "metadata": {
      "needs_background": "light"
     },
     "output_type": "display_data"
    }
   ],
   "source": [
    "# Phase 3 plot\n",
    "plt.title(\"Lepton Phi Distribution\")\n",
    "plt.ylim(0, 460)\n",
    "plt.xlim(-3.3, 3.3)\n",
    "plt.hist(es[:,2], label=\"Electrons\", color=ec, bins=100)\n",
    "plt.hist(ms[:,2], label=\"Muons\", color=mc, bins=100)\n",
    "plt.legend()"
   ]
  },
  {
   "cell_type": "code",
   "execution_count": 314,
   "metadata": {},
   "outputs": [
    {
     "data": {
      "text/plain": [
       "(array([3.628e+03, 5.915e+03, 5.819e+03, 4.977e+03, 3.795e+03, 3.039e+03,\n",
       "        2.299e+03, 1.867e+03, 1.440e+03, 1.139e+03, 8.680e+02, 7.980e+02,\n",
       "        6.270e+02, 5.410e+02, 4.280e+02, 3.730e+02, 3.140e+02, 2.480e+02,\n",
       "        2.120e+02, 1.970e+02, 1.600e+02, 1.490e+02, 1.040e+02, 9.800e+01,\n",
       "        9.400e+01, 6.600e+01, 7.900e+01, 6.400e+01, 4.700e+01, 3.900e+01,\n",
       "        4.200e+01, 2.200e+01, 2.500e+01, 1.200e+01, 1.900e+01, 2.900e+01,\n",
       "        1.600e+01, 1.100e+01, 1.300e+01, 1.900e+01, 1.200e+01, 4.000e+00,\n",
       "        8.000e+00, 3.000e+00, 6.000e+00, 1.000e+00, 4.000e+00, 5.000e+00,\n",
       "        2.000e+00, 6.000e+00, 5.000e+00, 1.000e+00, 3.000e+00, 2.000e+00,\n",
       "        2.000e+00, 4.000e+00, 1.000e+00, 1.000e+00, 2.000e+00, 2.000e+00,\n",
       "        3.000e+00, 2.000e+00, 0.000e+00, 0.000e+00, 0.000e+00, 0.000e+00,\n",
       "        2.000e+00, 2.000e+00, 0.000e+00, 1.000e+00, 0.000e+00, 2.000e+00,\n",
       "        0.000e+00, 0.000e+00, 0.000e+00, 1.000e+00, 0.000e+00, 0.000e+00,\n",
       "        0.000e+00, 1.000e+00, 0.000e+00, 0.000e+00, 0.000e+00, 0.000e+00,\n",
       "        0.000e+00, 0.000e+00, 0.000e+00, 0.000e+00, 0.000e+00, 0.000e+00,\n",
       "        0.000e+00, 0.000e+00, 0.000e+00, 0.000e+00, 0.000e+00, 0.000e+00,\n",
       "        0.000e+00, 0.000e+00, 0.000e+00, 1.000e+00]),\n",
       " array([  15.02103616,   31.70442934,   48.38782252,   65.0712157 ,\n",
       "          81.75460887,   98.43800205,  115.12139523,  131.80478841,\n",
       "         148.48818158,  165.17157476,  181.85496794,  198.53836112,\n",
       "         215.22175429,  231.90514747,  248.58854065,  265.27193383,\n",
       "         281.955327  ,  298.63872018,  315.32211336,  332.00550654,\n",
       "         348.68889971,  365.37229289,  382.05568607,  398.73907925,\n",
       "         415.42247242,  432.1058656 ,  448.78925878,  465.47265195,\n",
       "         482.15604513,  498.83943831,  515.52283149,  532.20622466,\n",
       "         548.88961784,  565.57301102,  582.2564042 ,  598.93979737,\n",
       "         615.62319055,  632.30658373,  648.98997691,  665.67337008,\n",
       "         682.35676326,  699.04015644,  715.72354962,  732.40694279,\n",
       "         749.09033597,  765.77372915,  782.45712233,  799.1405155 ,\n",
       "         815.82390868,  832.50730186,  849.19069504,  865.87408821,\n",
       "         882.55748139,  899.24087457,  915.92426775,  932.60766092,\n",
       "         949.2910541 ,  965.97444728,  982.65784045,  999.34123363,\n",
       "        1016.02462681, 1032.70801999, 1049.39141316, 1066.07480634,\n",
       "        1082.75819952, 1099.4415927 , 1116.12498587, 1132.80837905,\n",
       "        1149.49177223, 1166.17516541, 1182.85855858, 1199.54195176,\n",
       "        1216.22534494, 1232.90873812, 1249.59213129, 1266.27552447,\n",
       "        1282.95891765, 1299.64231083, 1316.325704  , 1333.00909718,\n",
       "        1349.69249036, 1366.37588354, 1383.05927671, 1399.74266989,\n",
       "        1416.42606307, 1433.10945625, 1449.79284942, 1466.4762426 ,\n",
       "        1483.15963578, 1499.84302895, 1516.52642213, 1533.20981531,\n",
       "        1549.89320849, 1566.57660166, 1583.25999484, 1599.94338802,\n",
       "        1616.6267812 , 1633.31017437, 1649.99356755, 1666.67696073,\n",
       "        1683.36035391]),\n",
       " <a list of 100 Patch objects>)"
      ]
     },
     "execution_count": 314,
     "metadata": {},
     "output_type": "execute_result"
    },
    {
     "data": {
      "image/png": "[encoded data removed]",
      "text/plain": [
       "<Figure size 432x288 with 2 Axes>"
      ]
     },
     "metadata": {
      "needs_background": "light"
     },
     "output_type": "display_data"
    }
   ],
   "source": [
    "# Phase 1 plot\n",
    "plt.title(\"Lepton Energy Distribution\")\n",
    "plt.subplot(1,2,1)\n",
    "plt.title(\"Muon Energy\")\n",
    "plt.hist(ms[:,3], label=\"Muons\", color=mc, bins=100)\n",
    "plt.subplot(1,2,2)\n",
    "plt.title(\"Electron Energy\")\n",
    "plt.hist(es[:,3], label=\"Electrons\", color=ec, bins=100)"
   ]
  },
  {
   "cell_type": "code",
   "execution_count": 315,
   "metadata": {},
   "outputs": [
    {
     "data": {
      "text/plain": [
       "(0, 0.016)"
      ]
     },
     "execution_count": 315,
     "metadata": {},
     "output_type": "execute_result"
    },
    {
     "data": {
      "image/png": "[encoded data removed]",
      "text/plain": [
       "<Figure size 432x288 with 2 Axes>"
      ]
     },
     "metadata": {
      "needs_background": "light"
     },
     "output_type": "display_data"
    }
   ],
   "source": [
    "# Phase 2 plot\n",
    "# todo: discard extreme values, or make some type of normalization\n",
    "# discarded electron and muon energy values above 350\n",
    "\n",
    "\n",
    "# prune muon data\n",
    "mes = []\n",
    "for m in ms: \n",
    "    if(m[0]<350):\n",
    "        mes.append(m[0])\n",
    "mes = np.array(mes)\n",
    "\n",
    "# prune electron data\n",
    "ees = []\n",
    "for e in es: \n",
    "    if(e[0]<350):\n",
    "        ees.append(e[0])\n",
    "ees = np.array(ees)\n",
    "plt.title(\"Lepton Energy\")\n",
    "plt.subplot(1,2,1)\n",
    "plt.title(\"Muon Energy\")\n",
    "plt.hist(mes, label=\"Muons\", color=mc, density=1, bins=100)\n",
    "plt.ylim(0, 0.016)\n",
    "plt.subplot(1,2,2)\n",
    "plt.title(\"Electron Energy\")\n",
    "plt.hist(ees, label=\"Electrons\", color=ec, density=1, bins=100)\n",
    "plt.ylim(0, 0.016)"
   ]
  },
  {
   "cell_type": "code",
   "execution_count": 316,
   "metadata": {},
   "outputs": [
    {
     "data": {
      "text/plain": [
       "<matplotlib.legend.Legend at 0x1580035c0>"
      ]
     },
     "execution_count": 316,
     "metadata": {},
     "output_type": "execute_result"
    },
    {
     "data": {
      "image/png": "[encoded data removed]",
      "text/plain": [
       "<Figure size 432x288 with 1 Axes>"
      ]
     },
     "metadata": {
      "needs_background": "light"
     },
     "output_type": "display_data"
    }
   ],
   "source": [
    "# phase 3 plot\n",
    "plt.title(\"Lepton Energy Distribution\")\n",
    "plt.hist(ees, label=\"Electrons\", color=ec, density=1, bins=100)\n",
    "plt.hist(mes, label=\"Muons\", color=mc, density=1, bins=100)\n",
    "plt.ylim(0, 0.016)\n",
    "plt.legend()"
   ]
  },
  {
   "cell_type": "code",
   "execution_count": null,
   "metadata": {},
   "outputs": [],
   "source": []
  },
  {
   "cell_type": "code",
   "execution_count": null,
   "metadata": {},
   "outputs": [],
   "source": []
  },
  {
   "cell_type": "code",
   "execution_count": null,
   "metadata": {},
   "outputs": [],
   "source": []
  }
 ],
 "metadata": {
  "kernelspec": {
   "display_name": "eulerspython",
   "language": "python",
   "name": "eulerspython"
  },
  "language_info": {
   "codemirror_mode": {
    "name": "ipython",
    "version": 3
   },
   "file_extension": ".py",
   "mimetype": "text/x-python",
   "name": "python",
   "nbconvert_exporter": "python",
   "pygments_lexer": "ipython3",
   "version": "3.6.5"
  }
 },
 "nbformat": 4,
 "nbformat_minor": 2
}
