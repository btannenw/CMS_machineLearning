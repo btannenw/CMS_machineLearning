{
 "cells": [
  {
   "cell_type": "code",
   "execution_count": 21,
   "metadata": {},
   "outputs": [],
   "source": [
    "# Package imports\n",
    "import numpy as np\n",
    "from sklearn.model_selection import train_test_split\n",
    "\n",
    "# Matplotlib is a matlab like plotting library\n",
    "import matplotlib\n",
    "from matplotlib import pyplot as plt\n",
    "# SciKitLearn is a useful machine learning utilities library\n",
    "import sklearn\n",
    "# The sklearn dataset module helps generating |datasets\n",
    "import sklearn.datasets\n",
    "import sklearn.linear_model\n",
    "from sklearn.preprocessing import OneHotEncoder\n",
    "from sklearn.preprocessing import normalize\n",
    "from scipy.stats import gaussian_kde"
   ]
  },
  {
   "cell_type": "code",
   "execution_count": 22,
   "metadata": {},
   "outputs": [],
   "source": [
    "# importing dataset\n",
    "# import data\n",
    "from DataExtraction import dataNoMass as data\n",
    "from DataExtraction import dataWithP2\n",
    "from DataExtraction import dataWithP2E2 \n",
    "from DataExtraction import dataWithMass \n",
    "from DataExtraction import p2E2 \n",
    "from DataExtraction import p2NegE2 \n",
    "from DataExtraction import labels2D as labels\n",
    "#from DataExtraction import labels\n",
    "data = np.array(data)\n",
    "labels = np.array(labels)\n",
    "# labels = np.row_stack(labels)"
   ]
  },
  {
   "cell_type": "code",
   "execution_count": 23,
   "metadata": {},
   "outputs": [],
   "source": [
    "# split data \n",
    "train_data, test_data, train_labels, test_labels = train_test_split(data, labels, train_size=0.5, test_size=0.5, random_state=42)"
   ]
  },
  {
   "cell_type": "code",
   "execution_count": 24,
   "metadata": {
    "scrolled": false
   },
   "outputs": [],
   "source": [
    "# normalize test data\n",
    "# train_data[:,0] = train_data[:,0] / np.linalg.norm(train_data[:,0]) # normalize column 0\n",
    "# train_data[:,1] = train_data[:,1] / np.linalg.norm(train_data[:,1]) # normalize column 1\n",
    "#normalize train data\n",
    "# test_data[:,0] = test_data[:,0] / np.linalg.norm(test_data[:,0]) # normalize column 0\n",
    "# test_data[:,1] = test_data[:,1] / np.linalg.norm(test_data[:,1]) # normalize column 1"
   ]
  },
  {
   "cell_type": "code",
   "execution_count": 25,
   "metadata": {},
   "outputs": [],
   "source": [
    "\n",
    "avgE2 = np.mean(train_data)"
   ]
  },
  {
   "cell_type": "code",
   "execution_count": 26,
   "metadata": {},
   "outputs": [],
   "source": [
    "train_data = train_data/avgE2\n",
    "test_data = test_data/avgE2"
   ]
  },
  {
   "cell_type": "code",
   "execution_count": 27,
   "metadata": {},
   "outputs": [],
   "source": [
    "# messing with the number of training data points\n",
    "# train_data = train_data[0:9]\n",
    "# train_labels = train_labels[0:9]"
   ]
  },
  {
   "cell_type": "code",
   "execution_count": 28,
   "metadata": {},
   "outputs": [],
   "source": [
    "# Now we define all our functions\n",
    "\n",
    "def softmax(z):\n",
    "    #Calculate exponent term first\n",
    "    exp_scores = np.exp(z)\n",
    "    return exp_scores / np.sum(exp_scores, axis=1, keepdims=True)\n",
    "\n",
    "# loss functions\n",
    "def softmax_loss(y,y_hat):\n",
    "    # Clipping value\n",
    "    minval = 0.000000000001\n",
    "    # Number of samples\n",
    "    m = y.shape[0]\n",
    "    # Loss formula, note that np.sum sums up the entire matrix and therefore does the job of two sums from the formula\n",
    "    loss = -1/m * np.sum(y * np.log(y_hat.clip(min=minval)))\n",
    "    #loss = -1/m * np.sum(y * np.log(y_hat))\n",
    "    return loss\n",
    "\n",
    "def crossEntropy_loss(y, y_hat):\n",
    "    m = y.shape[0]\n",
    "    if y.all() == 1:\n",
    "        return -1/m * np.sum(np.log(y_hat))\n",
    "    else:\n",
    "        return -1/m * np.sum(np.log(1 - y_hat))\n",
    "\n",
    "def mse_loss(y, y_hat):\n",
    "    m = y.shape[0]\n",
    "    return np.sum((y_hat - y)**2) / m\n",
    "    \n",
    "def loss_derivative(y,y_hat):\n",
    "    return (y_hat-y)\n",
    "\n",
    "def tanh_derivative(x):\n",
    "    return (1 - np.power(x, 2))\n",
    "\n",
    "# This is the forward propagation function\n",
    "def forward_prop(model,a0):\n",
    "    \n",
    "    #Start Forward Propagation\n",
    "    \n",
    "    # Load parameters from model\n",
    "    W1, b1, W2, b2, W3, b3 = model['W1'], model['b1'], model['W2'], model['b2'], model['W3'],model['b3']\n",
    "    \n",
    "    # Do the first Linear step \n",
    "    # Z1 is the input layer x times the dot product of the weights + our bias b\n",
    "    z1 = a0.dot(W1) + b1\n",
    "    \n",
    "    # Put it through the first activation function\n",
    "    a1 = np.tanh(z1)\n",
    "    \n",
    "    # Second linear step\n",
    "    z2 = a1.dot(W2) + b2\n",
    "    \n",
    "    # Second activation function\n",
    "    a2 = np.tanh(z2)\n",
    "    \n",
    "    #Third linear step\n",
    "    z3 = a2.dot(W3) + b3\n",
    "    \n",
    "    #For the Third linear activation function we use the softmax function, either the sigmoid of softmax should be used for the last layer\n",
    "    a3 = softmax(z3)\n",
    "    \n",
    "    #Store all results in these values\n",
    "    cache = {'a0':a0,'z1':z1,'a1':a1,'z2':z2,'a2':a2,'a3':a3,'z3':z3}\n",
    "    return cache\n",
    "\n",
    "# This is the BACKWARD PROPAGATION function\n",
    "def backward_prop(model,cache,y):\n",
    "\n",
    "    # Load parameters from model\n",
    "    W1, b1, W2, b2, W3, b3 = model['W1'], model['b1'], model['W2'], model['b2'],model['W3'],model['b3']\n",
    "    # Load forward propagation results\n",
    "    a0,a1, a2,a3 = cache['a0'],cache['a1'],cache['a2'],cache['a3']\n",
    "    \n",
    "    # Get number of samples\n",
    "    m = y.shape[0]\n",
    "    \n",
    "    # Calculate loss derivative with respect to output\n",
    "    dz3 = loss_derivative(y=y,y_hat=a3)\n",
    "\n",
    "    # Calculate loss derivative with respect to second layer weights\n",
    "    dW3 = 1/m*(a2.T).dot(dz3) #dW2 = 1/m*(a1.T).dot(dz2) \n",
    "    \n",
    "    # Calculate loss derivative with respect to second layer bias\n",
    "    db3 = 1/m*np.sum(dz3, axis=0)\n",
    "    \n",
    "    # Calculate loss derivative with respect to first layer\n",
    "    dz2 = np.multiply(dz3.dot(W3.T) ,tanh_derivative(a2))\n",
    "    \n",
    "    # Calculate loss derivative with respect to first layer weights\n",
    "    dW2 = 1/m*np.dot(a1.T, dz2)\n",
    "    \n",
    "    # Calculate loss derivative with respect to first layer bias\n",
    "    db2 = 1/m*np.sum(dz2, axis=0)\n",
    "    \n",
    "    dz1 = np.multiply(dz2.dot(W2.T),tanh_derivative(a1))\n",
    "    \n",
    "    dW1 = 1/m*np.dot(a0.T,dz1)\n",
    "    \n",
    "    db1 = 1/m*np.sum(dz1,axis=0)\n",
    "    \n",
    "    # Store gradients\n",
    "    grads = {'dW3':dW3, 'db3':db3, 'dW2':dW2,'db2':db2,'dW1':dW1,'db1':db1}\n",
    "    return grads\n",
    "\n",
    "#TRAINING PHASE\n",
    "def initialize_parameters(input_dim,l1_dim, l2_dim, output_dim):\n",
    "    # First layer weights\n",
    "    W1 = 2 *np.random.randn(input_dim, l1_dim) - 1\n",
    "    \n",
    "    # First layer bias\n",
    "    b1 = np.zeros((1, l1_dim))\n",
    "    \n",
    "    # Second layer weights\n",
    "    W2 = 2 * np.random.randn(l1_dim, l2_dim) - 1\n",
    "    \n",
    "    # Second layer bias\n",
    "    b2 = np.zeros((1, l2_dim))\n",
    "    W3 = 2 * np.random.rand(l2_dim, output_dim) - 1\n",
    "    b3 = np.zeros((1,output_dim))\n",
    "    \n",
    "    \n",
    "    # Package and return model\n",
    "    model = { 'W1': W1, 'b1': b1, 'W2': W2, 'b2': b2,'W3':W3,'b3':b3}\n",
    "    return model\n",
    "\n",
    "def update_parameters(model,grads,learning_rate):\n",
    "    # Load parameters\n",
    "    W1, b1, W2, b2,b3,W3 = model['W1'], model['b1'], model['W2'], model['b2'],model['b3'],model[\"W3\"]\n",
    "    \n",
    "    # Update parameters\n",
    "    W1 -= learning_rate * grads['dW1']\n",
    "    b1 -= learning_rate * grads['db1']\n",
    "    W2 -= learning_rate * grads['dW2']\n",
    "    b2 -= learning_rate * grads['db2']\n",
    "    W3 -= learning_rate * grads['dW3']\n",
    "    b3 -= learning_rate * grads['db3']\n",
    "    \n",
    "    # load parameters into running lists\n",
    "    w00s.append(W1[0][0]) # modifies global list\n",
    "    w01s.append(W1[0][1]) # modifies global list\n",
    "    w02s.append(W1[0][2]) # modifies global list\n",
    "    w03s.append(W1[0][3]) # modifies global list\n",
    "    w04s.append(W1[0][4]) # modifies global list\n",
    "    \n",
    "    w10s.append(W1[1][0]) # modifies global list\n",
    "    w11s.append(W1[1][1]) # modifies global list\n",
    "    w12s.append(W1[1][2]) # modifies global list\n",
    "    w13s.append(W1[1][3]) # modifies global list\n",
    "    w14s.append(W1[1][4]) # modifies global list\n",
    "    \n",
    "    b0s.append(b1[0][0]) # modifies global list\n",
    "    b1s.append(b1[0][1]) # modifies global list\n",
    "    b2s.append(b1[0][2]) # modifies global list\n",
    "    b3s.append(b1[0][3]) # modifies global list\n",
    "    b4s.append(b1[0][4]) # modifies global list\n",
    "\n",
    "    # Store and return parameters\n",
    "    model = { 'W1': W1, 'b1': b1, 'W2': W2, 'b2': b2, 'W3':W3,'b3':b3}\n",
    "    return model\n",
    "def predict(model, x):\n",
    "    # Do forward pass\n",
    "    c = forward_prop(model,x)\n",
    "    #get y_hat\n",
    "    y_hat = c['a3']\n",
    "    # plotArr.append([x, y_hat]) #added to make plot\n",
    "    return y_hat\n",
    "def calc_accuracy(model,x,y):\n",
    "    # Get total number of examples\n",
    "    m = y.shape[0]\n",
    "    # Do a prediction with the model\n",
    "    pred = predict(model,x)\n",
    "    # Ensure prediction and truth vector y have the same shape\n",
    "    pred = pred.reshape(y.shape)\n",
    "    # Calculate the number of wrong examples\n",
    "    error = np.sum(np.abs(pred-y))\n",
    "    # Calculate accuracy\n",
    "    return (m - error)/m * 100\n",
    "def train(model,X_,y_,learning_rate, epochs=2001, print_loss=False):\n",
    "    # Gradient descent. Loop over epochs\n",
    "    for i in range(0, epochs):\n",
    "\n",
    "        # Forward propagation\n",
    "        cache = forward_prop(model,X_)\n",
    "        #a1, probs = cache['a1'],cache['a2']\n",
    "        # Backpropagation\n",
    "        \n",
    "        grads = backward_prop(model,cache,y_)\n",
    "        # Gradient descent parameter update\n",
    "        # Assign new parameters to the model\n",
    "        model = update_parameters(model=model,grads=grads,learning_rate=learning_rate)\n",
    "        # it is at this point in the training that the weights get added to the lists\n",
    "    \n",
    "        a3 = cache['a3']\n",
    "        thisLoss = mse_loss(y_,a3) # set loss function here\n",
    "        losses.append(thisLoss) # modifies global list\n",
    "        y_hat = predict(model,X_) # getting rid of this because it's wrong\n",
    "        y_true = y_.argmax(axis=1)\n",
    "        accur = accuracy_score(a3,train_labels)\n",
    "        train_accuracies.append(accur) # modifies global list\n",
    "        \n",
    "        if i % 50 == 0:\n",
    "            placeholderVar = accuracy_score(a3, train_labels)\n",
    "            test_accuracy = accuracyOfModel(model, test_data, test_labels)\n",
    "            test_accuracies.append(test_accuracy) # modifies global list\n",
    "            test_num.append(i)\n",
    "        #Printing loss & accuracy every 100 iterations\n",
    "        if print_loss and i % 300==0:\n",
    "            print('Loss after iteration',i,':',thisLoss)\n",
    "            print('Train Accuracy after iteration',i,':',accur*100,'%')\n",
    "            print('Test Accuracy after iteration',i,':',test_accuracy*100,'%')\n",
    "    return model\n",
    "\n",
    "# TESTING PHASE\n",
    "# test the accuracy of any model\n",
    "def accuracyOfModel(_model, _testData, _testLabels):\n",
    "    y_pred = predict(_model,_testData) # make predictions on test data\n",
    "    y_true = _testLabels # get usable info from labels\n",
    "    return accuracy_score(y_pred, y_true)\n",
    "\n",
    "def accuracy_score(_outputNodes, _labels):\n",
    "    for i in range(len(_outputNodes)-1):\n",
    "        if _outputNodes[i][0]>.5:\n",
    "            _outputNodes[i]=[1,0]\n",
    "        else:\n",
    "            _outputNodes[i]=[0,1]\n",
    "    numWrong = np.count_nonzero(np.subtract(_outputNodes,_labels))/2\n",
    "    return (len(_outputNodes)-numWrong)/len(_outputNodes)\n",
    "\n",
    "    "
   ]
  },
  {
   "cell_type": "code",
   "execution_count": 29,
   "metadata": {},
   "outputs": [],
   "source": [
    "# declare global lists\n",
    "losses = []\n",
    "train_accuracies = []\n",
    "test_accuracies = []\n",
    "test_num = []\n",
    "\n",
    "w00s = []\n",
    "w01s = []\n",
    "w02s = []\n",
    "w03s = []\n",
    "w04s = []\n",
    "\n",
    "w10s = []\n",
    "w11s = []\n",
    "w12s = []\n",
    "w13s = []\n",
    "w14s = []\n",
    "\n",
    "b0s = []\n",
    "b1s = []\n",
    "b2s = []\n",
    "b3s = []\n",
    "b4s = []"
   ]
  },
  {
   "cell_type": "code",
   "execution_count": 60,
   "metadata": {},
   "outputs": [
    {
     "name": "stdout",
     "output_type": "stream",
     "text": [
      "Loss after iteration 0 : 0.5867500823342341\n",
      "Train Accuracy after iteration 0 : 48.81545346514627 %\n",
      "Test Accuracy after iteration 0 : 48.59548431139542 %\n",
      "Loss after iteration 300 : 0.5068561126451748\n",
      "Train Accuracy after iteration 300 : 50.281914490151955 %\n",
      "Test Accuracy after iteration 300 : 50.24146039291042 %\n",
      "Loss after iteration 600 : 0.5040178272985922\n",
      "Train Accuracy after iteration 600 : 50.51452554929079 %\n",
      "Test Accuracy after iteration 600 : 50.345124017091855 %\n",
      "Loss after iteration 900 : 0.5030006511968844\n",
      "Train Accuracy after iteration 900 : 50.711739273343284 %\n",
      "Test Accuracy after iteration 900 : 50.53222421683397 %\n",
      "Loss after iteration 1200 : 0.5022868666346259\n",
      "Train Accuracy after iteration 1200 : 50.742079846274436 %\n",
      "Test Accuracy after iteration 1200 : 50.529695835756364 %\n",
      "Loss after iteration 1500 : 0.5017103374557059\n",
      "Train Accuracy after iteration 1500 : 50.80023261105914 %\n",
      "Test Accuracy after iteration 1500 : 50.65105812748097 %\n",
      "Loss after iteration 1800 : 0.5012112694606002\n",
      "Train Accuracy after iteration 1800 : 50.92159490278375 %\n",
      "Test Accuracy after iteration 1800 : 50.772420419205574 %\n",
      "Loss after iteration 2100 : 0.500802809189999\n",
      "Train Accuracy after iteration 2100 : 50.89378271093019 %\n",
      "Test Accuracy after iteration 2100 : 50.87102728123183 %\n",
      "Loss after iteration 2400 : 0.5004664867578611\n",
      "Train Accuracy after iteration 2400 : 50.86091375692144 %\n",
      "Test Accuracy after iteration 2400 : 51.00503147834442 %\n",
      "Loss after iteration 2700 : 0.5001846612214087\n",
      "Train Accuracy after iteration 2700 : 50.9544638567925 %\n",
      "Test Accuracy after iteration 2700 : 51.090996434982685 %\n",
      "Loss after iteration 3000 : 0.4999457456030783\n",
      "Train Accuracy after iteration 3000 : 51.04548557558595 %\n",
      "Test Accuracy after iteration 3000 : 51.15167758084499 %\n",
      "Loss after iteration 3300 : 0.4997417427672863\n",
      "Train Accuracy after iteration 3300 : 51.169376248388154 %\n",
      "Test Accuracy after iteration 3300 : 51.27556825364719 %\n",
      "Loss after iteration 3600 : 0.4995679524195842\n",
      "Train Accuracy after iteration 3600 : 51.29832368334556 %\n",
      "Test Accuracy after iteration 3600 : 51.24269929963844 %\n",
      "Loss after iteration 3900 : 0.4994211049835124\n",
      "Train Accuracy after iteration 3900 : 51.331192637354306 %\n",
      "Test Accuracy after iteration 3900 : 51.25786958610402 %\n"
     ]
    }
   ],
   "source": [
    "# declare global lists\n",
    "losses = []\n",
    "train_accuracies = []\n",
    "test_accuracies = []\n",
    "test_num = []\n",
    "\n",
    "learnRate = 0.005 # set learning rate here\n",
    "np.random.seed(0)\n",
    "# This is what we return at the end\n",
    "model = initialize_parameters(4, 8, 8, 2)\n",
    "model = train(model,train_data,train_labels,learning_rate=learnRate,epochs=3901,print_loss=True) # original learning rate is 0.01"
   ]
  },
  {
   "cell_type": "code",
   "execution_count": 67,
   "metadata": {
    "scrolled": true
   },
   "outputs": [
    {
     "data": {
      "text/plain": [
       "(0.48, 0.52)"
      ]
     },
     "execution_count": 67,
     "metadata": {},
     "output_type": "execute_result"
    },
    {
     "data": {
      "image/png": "[encoded data removed]",
      "text/plain": [
       "<Figure size 432x288 with 1 Axes>"
      ]
     },
     "metadata": {
      "needs_background": "light"
     },
     "output_type": "display_data"
    }
   ],
   "source": [
    "plt.semilogy(losses, label=\"Loss\")\n",
    "plt.semilogy(train_accuracies, label=\"Train Accuracy\")\n",
    "plt.scatter(test_num, test_accuracies, label=\"Test Accuracy\", s=16, color=\"green\")\n",
    "#plt.plot(test_accuracies, label=\"Test Accuracy\")\n",
    "plt.plot()\n",
    "plt.legend()\n",
    "plt.title(\"Network Loss and Accuracy per Epoch with %1.3f Learning Rate\" %learnRate)\n",
    "plt.xlabel(\"Epoch\")\n",
    "plt.ylabel(\"Score\")\n",
    "plt.xlim(500)\n",
    "plt.ylim(.48, .52)\n"
   ]
  },
  {
   "cell_type": "code",
   "execution_count": 57,
   "metadata": {},
   "outputs": [
    {
     "data": {
      "text/plain": [
       "<matplotlib.legend.Legend at 0x12bce9d30>"
      ]
     },
     "execution_count": 57,
     "metadata": {},
     "output_type": "execute_result"
    },
    {
     "data": {
      "image/png": "[encoded data removed]",
      "text/plain": [
       "<Figure size 432x288 with 1 Axes>"
      ]
     },
     "metadata": {
      "needs_background": "light"
     },
     "output_type": "display_data"
    }
   ],
   "source": [
    "\n",
    "plt.plot((w00s-(w00s[0])), label=\"Weight 0.0\")\n",
    "plt.plot((w01s-(w01s[0])), label=\"Weight 0.1\")\n",
    "plt.plot((w02s-(w02s[0])), label=\"Weight 0.2\")\n",
    "plt.plot((w03s-(w03s[0])), label=\"Weight 0.3\")\n",
    "plt.plot((w04s-(w04s[0])), label=\"Weight 0.4\")\n",
    "plt.ylabel(\"Value\")\n",
    "plt.xlabel(\"Epoch\")\n",
    "plt.title(\"Weights From the First Input Node at Each Epoch\")\n",
    "plt.legend()\n",
    "\n"
   ]
  },
  {
   "cell_type": "code",
   "execution_count": 58,
   "metadata": {},
   "outputs": [
    {
     "data": {
      "text/plain": [
       "<matplotlib.legend.Legend at 0x12c8c72e8>"
      ]
     },
     "execution_count": 58,
     "metadata": {},
     "output_type": "execute_result"
    },
    {
     "data": {
      "image/png": "[encoded data removed]",
      "text/plain": [
       "<Figure size 432x288 with 1 Axes>"
      ]
     },
     "metadata": {
      "needs_background": "light"
     },
     "output_type": "display_data"
    }
   ],
   "source": [
    "\n",
    "plt.plot((w10s-(w10s[0])), label=\"Weight 1.0\")\n",
    "plt.plot((w11s-(w11s[0])), label=\"Weight 1.1\")\n",
    "plt.plot((w12s-(w12s[0])), label=\"Weight 1.2\")\n",
    "plt.plot((w13s-(w13s[0])), label=\"Weight 1.3\")\n",
    "plt.plot((w14s-(w14s[0])), label=\"Weight 1.4\")\n",
    "plt.ylabel(\"Value\")\n",
    "plt.xlabel(\"Epoch\")\n",
    "plt.title(\"Change in Weights From the Second Input Node at Each Epoch\")\n",
    "plt.legend()\n"
   ]
  },
  {
   "cell_type": "code",
   "execution_count": 59,
   "metadata": {},
   "outputs": [
    {
     "data": {
      "text/plain": [
       "<matplotlib.legend.Legend at 0x12ca4dd30>"
      ]
     },
     "execution_count": 59,
     "metadata": {},
     "output_type": "execute_result"
    },
    {
     "data": {
      "image/png": "[encoded data removed]",
      "text/plain": [
       "<Figure size 432x288 with 1 Axes>"
      ]
     },
     "metadata": {
      "needs_background": "light"
     },
     "output_type": "display_data"
    }
   ],
   "source": [
    "\n",
    "plt.plot(b0s, label=\"Bias 0\")\n",
    "plt.plot(b1s, label=\"Bias 1\")\n",
    "plt.plot(b2s, label=\"Bias 2\")\n",
    "plt.plot(b3s, label=\"Bias 3\")\n",
    "plt.plot(b4s, label=\"Bias 4\")\n",
    "plt.ylabel(\"Value\")\n",
    "plt.xlabel(\"Epoch\")\n",
    "plt.title(\"Biases from Input Nodes at Each Epoch\")\n",
    "plt.legend()\n"
   ]
  },
  {
   "cell_type": "code",
   "execution_count": 54,
   "metadata": {},
   "outputs": [
    {
     "name": "stdout",
     "output_type": "stream",
     "text": [
      "Weight 1: \n",
      " [[ 2.528742   -0.19908011  1.0217582   3.51568653  2.73830773 -2.92671367\n",
      "   0.9134001  -1.30679631]\n",
      " [-1.20647272 -0.17878132 -0.70798118  1.90780316  0.52215049 -0.75590625\n",
      "  -0.11223271 -0.33216428]\n",
      " [ 1.98803981 -1.41002428 -0.35047391 -2.70224205 -6.10503113  0.31740869\n",
      "   0.72434178 -2.47991149]\n",
      " [ 3.53995039 -3.90764887 -0.75695537 -1.29090832  2.07116008  1.99635018\n",
      "  -0.71896118 -0.22201675]]\n",
      "Weight 2: \n",
      " [[-2.77685032 -4.96656971 -1.70470057 -0.68876201  1.45870475  1.42324112\n",
      "  -1.80294153 -1.60007079]\n",
      " [-3.09569032 -3.83503117 -4.40366572  2.90301041 -2.0163604  -1.89429356\n",
      "  -3.47849087  0.55044613]\n",
      " [-4.22268916 -1.42667481 -2.78596458 -0.2248203  -2.00523337 -3.37813729\n",
      "  -1.04187562 -0.14394051]\n",
      " [-0.86257864 -0.40008646 -2.27197773 -1.72592323 -2.30249466 -1.71738239\n",
      "  -2.6331773  -4.4562493 ]\n",
      " [-0.64569863 -1.8085335  -4.26927124 -0.07589593 -2.81466032 -0.87732048\n",
      "   0.42910608 -0.73750252]\n",
      " [ 1.27437715 -3.46479701 -0.20647024 -2.36959838 -2.77362141 -2.14131706\n",
      "  -1.62842948 -0.88346526]\n",
      " [-3.33042974  0.80014767 -0.06336112 -4.07067785  1.98073359  2.77406152\n",
      "   1.37644265 -1.36051263]\n",
      " [-3.13906054  1.11429764 -1.79805623  1.44673583 -0.58365996  0.93539078\n",
      "  -0.26521342  0.41234945]]\n",
      "Weight 3: \n",
      " [[ 0.29379436  0.15936297]\n",
      " [ 0.89310307  0.3070446 ]\n",
      " [ 0.11742567 -0.05692915]\n",
      " [-0.97506363 -0.38340034]\n",
      " [ 0.15062808 -0.25012579]\n",
      " [ 0.12256146 -0.0289932 ]\n",
      " [-0.80917896 -0.32330826]\n",
      " [ 0.05233353  0.26934181]]\n",
      "Bias 1: \n",
      " [[ 0.00129237  0.00261434  0.0638008   0.06112103  0.01092539 -0.00514087\n",
      "  -0.03182769  0.007567  ]]\n",
      "Bias 2: \n",
      " [[-0.00131381 -0.00497174 -0.00887704 -0.00145997 -0.00177617  0.01853544\n",
      "  -0.0284888   0.00453474]]\n",
      "Bias 3: \n",
      " [[ 0.01480165 -0.01480165]]\n"
     ]
    }
   ],
   "source": [
    "W1, b1, W2, b2,b3,W3 = model['W1'], model['b1'], model['W2'], model['b2'],model['b3'],model[\"W3\"]\n",
    "print(\"Weight 1: \\n\", W1)\n",
    "print(\"Weight 2: \\n\", W2)\n",
    "print(\"Weight 3: \\n\", W3)\n",
    "print(\"Bias 1: \\n\", b1)\n",
    "print(\"Bias 2: \\n\", b2)\n",
    "print(\"Bias 3: \\n\", b3)"
   ]
  },
  {
   "cell_type": "code",
   "execution_count": 49,
   "metadata": {
    "scrolled": true
   },
   "outputs": [
    {
     "data": {
      "text/plain": [
       "Text(0.5, 1.0, 'Output node 2 vs Output node 1')"
      ]
     },
     "execution_count": 49,
     "metadata": {},
     "output_type": "execute_result"
    },
    {
     "data": {
      "image/png": "[encoded data removed]",
      "text/plain": [
       "<Figure size 432x288 with 1 Axes>"
      ]
     },
     "metadata": {
      "needs_background": "light"
     },
     "output_type": "display_data"
    }
   ],
   "source": [
    "# plot of output node 2 vs output node 1\n",
    "# get weights and biases\n",
    "W1, b1, W2, b2,b3,W3 = model['W1'], model['b1'], model['W2'], model['b2'],model['b3'],model[\"W3\"]\n",
    "\n",
    "diffArray = []\n",
    "\n",
    "plotX = []\n",
    "plotY = []\n",
    "\n",
    "inputArr = []\n",
    "outputArr = []\n",
    "for i in range(len(test_data)-1):\n",
    "    _a0 = test_data[i]\n",
    "    diffArray.append(_a0[1]-_a0[0])\n",
    "    inputArr.append(_a0[1])\n",
    "    _z1 = _a0.dot(W1) + b1\n",
    "    # Put it through the first activation function\n",
    "    _a1 = np.tanh(_z1)\n",
    "    # Second linear step\n",
    "    _z2 = _a1.dot(W2) + b2\n",
    "    # Second activation function\n",
    "    _a2 = np.tanh(_z2)\n",
    "    #Third linear step\n",
    "    _z3 = _a2.dot(W3) + b3\n",
    "    #For the Third linear activation function we use the softmax function, either the sigmoid of softmax should be used for the last layer\n",
    "    _a3 = softmax(_z3)\n",
    "    plotX.append(_a3[0][0])\n",
    "    plotY.append(_a3[0][1])\n",
    "plt.scatter(plotX, plotY)\n",
    "plt.title(\"Output node 2 vs Output node 1\")\n",
    "\n",
    "    # Calculate the point density\n",
    "#     xy = np.vstack([plotX,plotY])\n",
    "#     z = gaussian_kde(xy)(xy)\n",
    "\n",
    "#     fig, ax = plt.subplots()\n",
    "#     ax.scatter(x, y, c=z, s=100, edgecolor='')\n",
    "#     plt.show()\n",
    "\n",
    "#plt.hist(diffArray, bins=500)\n"
   ]
  },
  {
   "cell_type": "code",
   "execution_count": null,
   "metadata": {},
   "outputs": [],
   "source": [
    "       "
   ]
  },
  {
   "cell_type": "code",
   "execution_count": null,
   "metadata": {},
   "outputs": [],
   "source": []
  },
  {
   "cell_type": "code",
   "execution_count": 50,
   "metadata": {},
   "outputs": [
    {
     "name": "stdout",
     "output_type": "stream",
     "text": [
      "0 differences greater than .75\n"
     ]
    },
    {
     "data": {
      "text/plain": [
       "Text(0.5, 1.0, 'Difference in Electron and Muon Output Node Values (E-M)')"
      ]
     },
     "execution_count": 50,
     "metadata": {},
     "output_type": "execute_result"
    },
    {
     "data": {
      "image/png": "[encoded data removed]",
      "text/plain": [
       "<Figure size 432x288 with 1 Axes>"
      ]
     },
     "metadata": {
      "needs_background": "light"
     },
     "output_type": "display_data"
    }
   ],
   "source": [
    "diffArr = []\n",
    "discardedVals = 0\n",
    "for x, y in zip(plotX, plotY):\n",
    "    if(abs(y-x)<.75):\n",
    "        diffArr.append(y-x)\n",
    "    else:\n",
    "        discardedVals += 1\n",
    "print(discardedVals, \"differences greater than .75\")\n",
    "plt.hist(diffArr, bins=1000)\n",
    "plt.title(\"Difference in Electron and Muon Output Node Values (E-M)\")"
   ]
  },
  {
   "cell_type": "code",
   "execution_count": null,
   "metadata": {},
   "outputs": [],
   "source": []
  },
  {
   "cell_type": "code",
   "execution_count": null,
   "metadata": {},
   "outputs": [],
   "source": []
  },
  {
   "cell_type": "code",
   "execution_count": null,
   "metadata": {},
   "outputs": [],
   "source": []
  },
  {
   "cell_type": "code",
   "execution_count": null,
   "metadata": {},
   "outputs": [],
   "source": []
  },
  {
   "cell_type": "code",
   "execution_count": null,
   "metadata": {},
   "outputs": [],
   "source": []
  },
  {
   "cell_type": "code",
   "execution_count": null,
   "metadata": {},
   "outputs": [],
   "source": []
  },
  {
   "cell_type": "code",
   "execution_count": null,
   "metadata": {},
   "outputs": [],
   "source": []
  }
 ],
 "metadata": {
  "kernelspec": {
   "display_name": "eulerspython",
   "language": "python",
   "name": "eulerspython"
  },
  "language_info": {
   "codemirror_mode": {
    "name": "ipython",
    "version": 3
   },
   "file_extension": ".py",
   "mimetype": "text/x-python",
   "name": "python",
   "nbconvert_exporter": "python",
   "pygments_lexer": "ipython3",
   "version": "3.6.5"
  }
 },
 "nbformat": 4,
 "nbformat_minor": 2
}
