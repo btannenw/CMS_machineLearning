{
 "cells": [
  {
   "cell_type": "code",
   "execution_count": 1,
   "metadata": {},
   "outputs": [],
   "source": [
    "# Package imports\n",
    "import numpy as np\n",
    "from sklearn.model_selection import train_test_split\n",
    "\n",
    "# Matplotlib is a matlab like plotting library\n",
    "import matplotlib\n",
    "from matplotlib import pyplot as plt\n",
    "# SciKitLearn is a useful machine learning utilities library\n",
    "import sklearn\n",
    "# The sklearn dataset module helps generating/datasets\n",
    "import sklearn.datasets\n",
    "import sklearn.linear_model\n",
    "from sklearn.preprocessing import OneHotEncoder\n",
    "from sklearn.preprocessing import normalize\n",
    "from scipy.stats import gaussian_kde"
   ]
  },
  {
   "cell_type": "code",
   "execution_count": 2,
   "metadata": {},
   "outputs": [
    {
     "name": "stdout",
     "output_type": "stream",
     "text": [
      "(79102, 1)\n"
     ]
    }
   ],
   "source": [
    "# importing dataset\n",
    "# import data\n",
    "from DataExtraction import dataNoMass as data\n",
    "from DataExtraction import dataWithP2\n",
    "from DataExtraction import dataWithP2E2 \n",
    "from DataExtraction import dataWithMass \n",
    "# from DataExtraction import p2E2 as data\n",
    "# from DataExtraction import p2NegE2 as data\n",
    "from DataExtraction import labels\n",
    "#from DataExtraction import labels2D as labels\n",
    "data = np.array(data)\n",
    "labels = np.array(labels)\n",
    "labels = np.row_stack(labels)\n",
    "#labels = labels.T\n",
    "print(labels.shape)"
   ]
  },
  {
   "cell_type": "code",
   "execution_count": 3,
   "metadata": {},
   "outputs": [],
   "source": [
    "# split data \n",
    "train_data, test_data, train_labels, test_labels = train_test_split(data, labels, train_size=0.5, test_size=0.5, random_state=42)"
   ]
  },
  {
   "cell_type": "code",
   "execution_count": 4,
   "metadata": {},
   "outputs": [
    {
     "data": {
      "text/plain": [
       "array([0.50003793])"
      ]
     },
     "execution_count": 4,
     "metadata": {},
     "output_type": "execute_result"
    }
   ],
   "source": [
    "# count percentage that are muons\n",
    "sum(train_labels)/len(train_labels)\n"
   ]
  },
  {
   "cell_type": "code",
   "execution_count": 5,
   "metadata": {},
   "outputs": [
    {
     "name": "stdout",
     "output_type": "stream",
     "text": [
      "[ 7.66797549e+01  5.31679903e-03 -2.34019611e-02  1.41026484e+02]\n",
      "[ 6.98907113e+01  1.27724424e-03 -1.92185404e-02  1.28480801e+02]\n",
      "[28.73596191  0.8398658  -0.11143488 39.48083318]\n",
      "[  0.37475292 157.96455704   4.76177547   0.27995333]\n"
     ]
    }
   ],
   "source": [
    "# normalize data here\n",
    "train_means = np.mean(train_data, axis=0)\n",
    "test_means = np.mean(test_data, axis=0)\n",
    "print(train_means)\n",
    "print(test_means)\n",
    "print(train_data[0,:])\n",
    "train_data[:, 0] = train_data[:,0]/train_means[0]\n",
    "train_data[:, 1] = train_data[:,1]/train_means[1]\n",
    "train_data[:, 2] = train_data[:,2]/train_means[2]\n",
    "train_data[:, 3] = train_data[:,3]/train_means[3]\n",
    "print(train_data[0,:])\n",
    "\n",
    "test_data[:, 0] = test_data[:,0]/test_means[0]\n",
    "test_data[:, 1] = test_data[:,1]/test_means[1]\n",
    "test_data[:, 2] = test_data[:,2]/test_means[2]\n",
    "test_data[:, 3] = test_data[:,3]/test_means[3]"
   ]
  },
  {
   "cell_type": "code",
   "execution_count": 6,
   "metadata": {},
   "outputs": [
    {
     "name": "stdout",
     "output_type": "stream",
     "text": [
      "[  0.37475292 157.96455704   4.76177547   0.27995333]\n",
      "[1]\n",
      "[  0.616931   248.17200162  25.31018075   0.6723506 ]\n",
      "[1]\n",
      "[  1.97986625 178.24882808  11.52084536   1.59722591]\n",
      "[0]\n",
      "[  4.37449032 -73.64772462 -29.75469983   2.56321181]\n",
      "[1]\n",
      "[   0.42328087  -55.73577897 -108.08356765    0.24032937]\n",
      "[1]\n",
      "label shape (79102, 1)\n"
     ]
    },
    {
     "data": {
      "text/plain": [
       "79102"
      ]
     },
     "execution_count": 6,
     "metadata": {},
     "output_type": "execute_result"
    }
   ],
   "source": [
    "# any other data manipulations/printing here\n",
    "for i in range(5):\n",
    "    print(train_data[i])\n",
    "    print(labels[i])\n",
    "    \n",
    "print(\"label shape\", labels.shape)\n",
    "labels.shape[0]"
   ]
  },
  {
   "cell_type": "code",
   "execution_count": 7,
   "metadata": {},
   "outputs": [],
   "source": [
    "# define softmax\n",
    "def softmax(z):\n",
    "    #Calculate exponent term first\n",
    "    exp_scores = np.exp(z)\n",
    "    return exp_scores / np.sum(exp_scores, axis=1, keepdims=True)"
   ]
  },
  {
   "cell_type": "code",
   "execution_count": 8,
   "metadata": {},
   "outputs": [],
   "source": [
    "# define loss functions\n",
    "\n",
    "# softmax loss\n",
    "def softmax_loss(y,y_hat):\n",
    "    # clipping value \n",
    "    minval = 0.000000000001\n",
    "    # number of samples\n",
    "    m = y.shape[0]\n",
    "    # loss formula, note that np.sum sums up the entire matrix and therefore does the job of two sums from the formula \n",
    "    loss = -1/m * np.sum(y * np.log(y_hat.clip(min=minval)))\n",
    "    return loss\n",
    "\n",
    "# crossentropy loss\n",
    "def crossEntropy_loss(y, y_hat):\n",
    "    m = y.shape[0]\n",
    "    if y.all() == 1:\n",
    "        return -1/m * np.sum(np.log(y_hat))\n",
    "    else:\n",
    "        return -1/m * np.sum(np.log(1 - y_hat))\n",
    "\n",
    "# mse loss\n",
    "def mse_loss(y, y_hat):\n",
    "    m = y.shape[0]\n",
    "    return np.sum((y_hat - y)**2) / m\n"
   ]
  },
  {
   "cell_type": "code",
   "execution_count": 9,
   "metadata": {},
   "outputs": [],
   "source": [
    "# define derivatives\n",
    "\n",
    "# loss derivative\n",
    "def loss_derivative(y,y_hat):\n",
    "    return (y_hat-y)\n",
    "\n",
    "# tanh derivative\n",
    "def tanh_derivative(x):\n",
    "    return (1 - np.power(x, 2))\n"
   ]
  },
  {
   "cell_type": "code",
   "execution_count": 10,
   "metadata": {},
   "outputs": [],
   "source": [
    "# forward propogation\n",
    "def forward_prop(model, a0):\n",
    "    \n",
    "    #Start Forward Propagation\n",
    "    \n",
    "    # Load parameters from model (1)\n",
    "    W1, b1, W2, b2 = model['W1'], model['b1'], model['W2'], model['b2']\n",
    "    \n",
    "    # Do the first Linear step \n",
    "    # Z1 is the input layer x times the dot product of the weights + our bias b\n",
    "    z1 = a0.dot(W1) + b1\n",
    "    \n",
    "    # Put it through the first activation function\n",
    "    a1 = np.tanh(z1)\n",
    "    \n",
    "    # Second linear step\n",
    "    z2 = a1.dot(W2) + b2\n",
    "    \n",
    "    # Second activation function\n",
    "    a2 = softmax(z2)\n",
    "    #print(\"a2 shape\", a2.shape)\n",
    "    #Store all results in these values\n",
    "    cache = {'a0':a0,'z1':z1,'a1':a1,'z2':z2,'a2':a2}\n",
    "    return cache\n",
    "    "
   ]
  },
  {
   "cell_type": "code",
   "execution_count": 121,
   "metadata": {},
   "outputs": [],
   "source": [
    "# This is the BACKWARD PROPAGATION function\n",
    "def backward_prop(model,cache,y):\n",
    "\n",
    "    # Load parameters from model\n",
    "    W1, b1, W2, b2 = model['W1'], model['b1'], model['W2'], model['b2']\n",
    "    \n",
    "    # add weights to print list\n",
    "    w00.append(W1[0])\n",
    "    w01.append(W1[1])\n",
    "    w02.append(W1[2])\n",
    "    w03.append(W1[3])\n",
    "    w10.append(W1[0])\n",
    "    w11.append(W1[1])\n",
    "    \n",
    "    # Load forward propagation results\n",
    "    a0,a1,a2 = cache['a0'],cache['a1'],cache['a2']\n",
    "\n",
    "    # Get number of samples\n",
    "    m = y.shape[0]\n",
    "\n",
    "    # Calculate loss derivative with respect to output\n",
    "    dz2 = loss_derivative(y=y,y_hat=a2)\n",
    "    # dz2 = .03\n",
    "\n",
    "    # Calculate loss derivative with respect to second layer weights\n",
    "    dW2 = 1/m*(a1.T).dot(dz2) #dW2 = 1/m*(a1.T).dot(dz2) \n",
    "    #dW2 = 0.4\n",
    "    \n",
    "    # Calculate loss derivative with respect to second layer bias\n",
    "    db2 = 1/m*np.sum(dz2, axis=0)\n",
    "    # db2 = .05\n",
    "    \n",
    "    dz1 = np.multiply(dz2.dot(W2.T),tanh_derivative(a1))\n",
    "    # dz1 = .06\n",
    "    \n",
    "    dW1 = 1/m*np.dot(a0.T,dz1)\n",
    "    # dW1 = .07\n",
    "    \n",
    "    db1 = 1/m*np.sum(dz1,axis=0)\n",
    "    # db1 = .08\n",
    "    \n",
    "    # Store gradients\n",
    "    grads = {'dW2':dW2,'db2':db2,'dW1':dW1,'db1':db1}\n",
    "    return grads\n"
   ]
  },
  {
   "cell_type": "code",
   "execution_count": 133,
   "metadata": {},
   "outputs": [],
   "source": [
    "#TRAINING PHASE\n",
    "def initialize_parameters(nn_input_dim,nn_hdim,nn_output_dim):\n",
    "    # First layer weights\n",
    "    W1 = 2 *np.random.randn(nn_input_dim, nn_hdim) - 1\n",
    "    \n",
    "    # First layer bias\n",
    "    b1 = np.zeros((1, nn_hdim))\n",
    "    \n",
    "    # Second layer weights\n",
    "    W2 = 2 * np.random.rand(nn_hdim, nn_output_dim)\n",
    "    b2 = np.zeros((1,nn_output_dim))\n",
    "    \n",
    "    \n",
    "    # Package and return model\n",
    "    model = { 'W1': W1, 'b1': b1, 'W2': W2, 'b2': b2}\n",
    "    return model\n",
    "def update_parameters(model,grads,learning_rate):\n",
    "    # Load parameters\n",
    "    W1, b1, W2, b2 = model['W1'], model['b1'], model['W2'], model['b2']\n",
    "    \n",
    "    # Update parameters\n",
    "    W1 -= learning_rate * grads['dW1']\n",
    "    #W1 = W1 +W1*.001\n",
    "    b1 -= learning_rate * grads['db1']\n",
    "    W2 -= learning_rate * grads['dW2']\n",
    "    #W2 = abs(W2) +W2*.001\n",
    "    b2 -= learning_rate * grads['db2']\n",
    "#     W1 = learning_rate * W1# * grads['dW1']\n",
    "#     b1 = learning_rate * b1\n",
    "#     W2 = learning_rate * W2\n",
    "#     b2 = learning_rate * b2\n",
    "\n",
    "    \n",
    "    # Store and return parameters\n",
    "    model = { 'W1': W1, 'b1': b1, 'W2': W2, 'b2': b2}\n",
    "    return model\n",
    "def predict(model, x):\n",
    "    # Do forward pass\n",
    "    c = forward_prop(model,x)\n",
    "    #get y_hat\n",
    "    y_hat = c['a2']\n",
    "    # plotArr.append([x, y_hat]) #added to make plot\n",
    "    return y_hat\n",
    "def calc_accuracy(model,x,y):\n",
    "    # Get total number of examples\n",
    "    m = y.shape[0]\n",
    "    # Do a prediction with the model\n",
    "    pred = predict(model,x)\n",
    "    # Ensure prediction and truth vector y have the same shape\n",
    "    pred = pred.reshape(y.shape)\n",
    "    # Calculate the number of wrong examples\n",
    "    error = np.sum(np.abs(pred-y))\n",
    "    # Calculate accuracy\n",
    "    return (m - error)/m * 100\n",
    "def train(model,X_,y_,learning_rate, epochs, print_loss=False):\n",
    "    # Gradient descent. Loop over epochs\n",
    "    for i in range(0, epochs):\n",
    "        if(i==0):\n",
    "            print(\"bias on first epoch is:\", model['b1'][0], )\n",
    "        # Forward propagation\n",
    "        cache = forward_prop(model,X_)\n",
    "        #a1, probs = cache['a1'],cache['a2']\n",
    "        # Backpropagation\n",
    "        \n",
    "        grads = backward_prop(model,cache,y_)\n",
    "        # Gradient descent parameter update\n",
    "        # Assign new parameters to the model\n",
    "        model = update_parameters(model=model,grads=grads,learning_rate=learning_rate)\n",
    "        \n",
    "        a2 = cache['a2']\n",
    "        thisLoss = mse_loss(y_,a2) # set loss function here\n",
    "        losses.append(thisLoss)\n",
    "        y_hat = predict(model,X_) # getting rid of this because it's wrong\n",
    "        y_true = y_.argmax(axis=1)\n",
    "        accur = accuracy_score(a2,train_labels)\n",
    "        train_accuracies.append(accur)\n",
    "        b1 = model['b1'][0]\n",
    "        b2 = model['b2'][0]\n",
    "        \n",
    "        b1s.append(b2)\n",
    "        b2s.append(b2)\n",
    "        if i % 50 == 0:\n",
    "            placeholderVar = accuracy_score(a2, train_labels)\n",
    "            test_accuracy = accuracyOfModel(model, test_data, test_labels)\n",
    "            test_accuracies.append(test_accuracy)\n",
    "            test_num.append(i)\n",
    "        #Printing loss & accuracy every 100 iterations\n",
    "        if print_loss and i % 300==0:\n",
    "            print('Loss after iteration',i,':',thisLoss)\n",
    "            print('Train Accuracy after iteration',i,':',accur*100,'%')\n",
    "            print('Test Accuracy after iteration',i,':',test_accuracy*100,'%')\n",
    "    return model"
   ]
  },
  {
   "cell_type": "code",
   "execution_count": null,
   "metadata": {},
   "outputs": [],
   "source": []
  },
  {
   "cell_type": "code",
   "execution_count": 134,
   "metadata": {},
   "outputs": [],
   "source": [
    "# TESTING PHASE\n",
    "# test the accuracy of any model\n",
    "def accuracyOfModel(_model, _testData, _testLabels):\n",
    "    y_pred = predict(_model,_testData) # make predictions on test data\n",
    "    y_true = _testLabels # get usable info from labels\n",
    "    return accuracy_score(y_pred, y_true)\n",
    "\n",
    "def accuracy_score(_outputNodes, _labels):\n",
    "    for i in range(len(_outputNodes)-1):\n",
    "        if _outputNodes[i]>.5:\n",
    "            _outputNodes[i]=1\n",
    "        else:\n",
    "            _outputNodes[i]=0\n",
    "    numWrong = np.count_nonzero(np.subtract(_outputNodes,_labels))/2\n",
    "    return (len(_outputNodes)-numWrong)/len(_outputNodes)\n"
   ]
  },
  {
   "cell_type": "code",
   "execution_count": 135,
   "metadata": {
    "scrolled": true
   },
   "outputs": [
    {
     "name": "stdout",
     "output_type": "stream",
     "text": [
      "bias on first epoch is: [0. 0.]\n",
      "Loss after iteration 0 : 0.49996207428383604\n",
      "Train Accuracy after iteration 0 : 75.0018962858082 %\n",
      "Test Accuracy after iteration 0 : 74.78319132259614 %\n",
      "Loss after iteration 300 : 0.49996207428383604\n",
      "Train Accuracy after iteration 300 : 75.0018962858082 %\n",
      "Test Accuracy after iteration 300 : 74.78319132259614 %\n",
      "Loss after iteration 600 : 0.49996207428383604\n",
      "Train Accuracy after iteration 600 : 75.0018962858082 %\n",
      "Test Accuracy after iteration 600 : 74.78319132259614 %\n",
      "Loss after iteration 900 : 0.49996207428383604\n",
      "Train Accuracy after iteration 900 : 75.0018962858082 %\n",
      "Test Accuracy after iteration 900 : 74.78319132259614 %\n",
      "Loss after iteration 1200 : 0.49996207428383604\n",
      "Train Accuracy after iteration 1200 : 75.0018962858082 %\n",
      "Test Accuracy after iteration 1200 : 74.78319132259614 %\n",
      "Loss after iteration 1500 : 0.49996207428383604\n",
      "Train Accuracy after iteration 1500 : 75.0018962858082 %\n",
      "Test Accuracy after iteration 1500 : 74.78319132259614 %\n",
      "Loss after iteration 1800 : 0.49996207428383604\n",
      "Train Accuracy after iteration 1800 : 75.0018962858082 %\n",
      "Test Accuracy after iteration 1800 : 74.78319132259614 %\n"
     ]
    }
   ],
   "source": [
    "# plotArr = []\n",
    "losses = []\n",
    "train_accuracies = []\n",
    "test_accuracies = []\n",
    "test_num = []\n",
    "w00 = []\n",
    "w01 = []\n",
    "w02 = []\n",
    "w03 = []\n",
    "w10 = []\n",
    "w11 = []\n",
    "b1s = []\n",
    "b2s = []\n",
    "learnRate = 0.01\n",
    "np.random.seed(0)\n",
    "# This is what we return at the end\n",
    "model = initialize_parameters(nn_input_dim=4, nn_hdim= 2, nn_output_dim= 1)\n",
    "model = train(model,train_data,train_labels,learning_rate=learnRate,epochs=1801,print_loss=True)"
   ]
  },
  {
   "cell_type": "code",
   "execution_count": 153,
   "metadata": {},
   "outputs": [
    {
     "name": "stdout",
     "output_type": "stream",
     "text": [
      "weight 1 \n",
      " [[ 15.29567316  -1.20814831]\n",
      " [  5.79297191  21.06568882]\n",
      " [ 16.54814384 -17.87581004]\n",
      " [  5.44629765  -7.88175189]]\n",
      "bias 1 \n",
      " [[-0.04780654 -0.00648997]]\n",
      "weight 2 \n",
      " [[11.66080714]\n",
      " [ 4.63983645]]\n",
      "bias 2 \n",
      " [[-9.00431696]]\n"
     ]
    }
   ],
   "source": [
    "print(\"weight 1 \\n\", model['W1'])\n",
    "print(\"bias 1 \\n\", model['b1'])\n",
    "print(\"weight 2 \\n\", model['W2'])\n",
    "print(\"bias 2 \\n\", model['b2'])"
   ]
  },
  {
   "cell_type": "code",
   "execution_count": 154,
   "metadata": {},
   "outputs": [
    {
     "data": {
      "text/plain": [
       "[<matplotlib.lines.Line2D at 0x12c1ce0f0>]"
      ]
     },
     "execution_count": 154,
     "metadata": {},
     "output_type": "execute_result"
    },
    {
     "data": {
      "image/png": "[encoded data removed]",
      "text/plain": [
       "<Figure size 432x288 with 1 Axes>"
      ]
     },
     "metadata": {
      "needs_background": "light"
     },
     "output_type": "display_data"
    }
   ],
   "source": [
    "plt.plot(b2s, label=\"b2s\")"
   ]
  },
  {
   "cell_type": "code",
   "execution_count": 155,
   "metadata": {
    "scrolled": true
   },
   "outputs": [
    {
     "data": {
      "text/plain": [
       "[<matplotlib.lines.Line2D at 0x12bfe0240>]"
      ]
     },
     "execution_count": 155,
     "metadata": {},
     "output_type": "execute_result"
    },
    {
     "data": {
      "image/png": "[encoded data removed]",
      "text/plain": [
       "<Figure size 432x288 with 1 Axes>"
      ]
     },
     "metadata": {
      "needs_background": "light"
     },
     "output_type": "display_data"
    }
   ],
   "source": [
    "plt.plot(b1s, label=\"b1s\")"
   ]
  },
  {
   "cell_type": "code",
   "execution_count": 156,
   "metadata": {},
   "outputs": [
    {
     "data": {
      "text/plain": [
       "<matplotlib.legend.Legend at 0x12bff9b70>"
      ]
     },
     "execution_count": 156,
     "metadata": {},
     "output_type": "execute_result"
    },
    {
     "data": {
      "image/png": "[encoded data removed]",
      "text/plain": [
       "<Figure size 432x288 with 1 Axes>"
      ]
     },
     "metadata": {
      "needs_background": "light"
     },
     "output_type": "display_data"
    }
   ],
   "source": [
    "plt.plot(w00, label=\"W00\")\n",
    "plt.legend()"
   ]
  },
  {
   "cell_type": "code",
   "execution_count": 157,
   "metadata": {},
   "outputs": [
    {
     "data": {
      "text/plain": [
       "Text(0, 0.5, 'Score')"
      ]
     },
     "execution_count": 157,
     "metadata": {},
     "output_type": "execute_result"
    },
    {
     "data": {
      "image/png": "[encoded data removed]",
      "text/plain": [
       "<Figure size 432x288 with 1 Axes>"
      ]
     },
     "metadata": {
      "needs_background": "light"
     },
     "output_type": "display_data"
    }
   ],
   "source": [
    "plt.plot(losses, label=\"Loss\")\n",
    "plt.plot(train_accuracies, label=\"Train Accuracy\")\n",
    "plt.scatter(test_num, test_accuracies, label=\"Test Accuracy\", s=16, color=\"green\")\n",
    "#plt.plot(test_accuracies, label=\"Test Accuracy\")\n",
    "plt.plot()\n",
    "plt.legend()\n",
    "plt.title(\"Network Loss and Accuracy per Epoch with %1.3f Learning Rate\" %learnRate)\n",
    "plt.xlabel(\"Epoch\")\n",
    "plt.ylabel(\"Score\")"
   ]
  },
  {
   "cell_type": "code",
   "execution_count": 149,
   "metadata": {},
   "outputs": [],
   "source": [
    "cache = forward_prop(model, test_data)\n",
    "testgrads = backward_prop(model,cache,train_labels)"
   ]
  },
  {
   "cell_type": "code",
   "execution_count": 150,
   "metadata": {},
   "outputs": [
    {
     "name": "stdout",
     "output_type": "stream",
     "text": [
      "cache a0 [[ 4.36329873e-01  1.35687505e+03  9.48712220e+01  6.92442674e-01]\n",
      " [ 4.14724928e-01 -6.15246283e+02  1.57180714e+02  2.98917155e-01]\n",
      " [ 1.79900165e+00 -1.24268291e+03  9.12023240e+01  2.49282159e+00]\n",
      " ...\n",
      " [ 3.28033062e-01 -6.13926365e+02 -2.55723288e+00  2.36171078e-01]\n",
      " [ 6.76026138e-01  3.32015283e+02  5.62037844e+00  4.01308377e-01]\n",
      " [ 4.70177093e-01  4.97008101e+02 -5.55076263e+01  3.09054226e-01]]\n",
      "cache a1 [[ 1.  1.]\n",
      " [-1. -1.]\n",
      " [-1. -1.]\n",
      " ...\n",
      " [-1. -1.]\n",
      " [ 1.  1.]\n",
      " [ 1.  1.]]\n",
      "cache z1 [[  9440.67907738  26881.61632429]\n",
      " [  -955.13169152 -15773.18285858]\n",
      " [ -5648.55222138 -27830.11462303]\n",
      " ...\n",
      " [ -3592.519706   -12889.33339817]\n",
      " [  2028.84015125   6889.67557291]\n",
      " [  1969.43285149  11459.05135483]]\n",
      "cache a2 [[1.]\n",
      " [1.]\n",
      " [1.]\n",
      " ...\n",
      " [1.]\n",
      " [1.]\n",
      " [1.]]\n",
      "cache z2 [[  7.29632663]\n",
      " [-25.30496054]\n",
      " [-25.30496054]\n",
      " ...\n",
      " [-25.30496054]\n",
      " [  7.29632663]\n",
      " [  7.29632663]]\n",
      "Average output value:  [1.]\n"
     ]
    }
   ],
   "source": [
    "print(\"cache a0\", cache['a0'])\n",
    "print(\"cache a1\", cache['a1'])\n",
    "print(\"cache z1\", cache['z1'])\n",
    "print(\"cache a2\", cache['a2'])\n",
    "print(\"cache z2\", cache['z2'])\n",
    "print(\"Average output value: \", sum(cache['a2'])/len(cache['a2']))"
   ]
  },
  {
   "cell_type": "code",
   "execution_count": 151,
   "metadata": {},
   "outputs": [
    {
     "name": "stdout",
     "output_type": "stream",
     "text": [
      "test grads dW2 [[ 0.00201111]\n",
      " [-0.00262935]]\n",
      "test grads db2 [0.49996207]\n",
      "test grads dW1 [[ 9.62632704e-04  1.36686485e-06]\n",
      " [ 1.67228114e-01 -1.01685401e-05]\n",
      " [-5.96367402e-02 -1.21595362e-05]\n",
      " [ 5.66165043e-04  7.43870361e-07]]\n",
      "test grads db1 [6.70801167e-04 1.62150521e-06]\n"
     ]
    }
   ],
   "source": [
    "print(\"test grads dW2\", testgrads['dW2'])\n",
    "print(\"test grads db2\", testgrads['db2'])\n",
    "print(\"test grads dW1\", testgrads['dW1'])\n",
    "print(\"test grads db1\", testgrads['db1'])"
   ]
  },
  {
   "cell_type": "code",
   "execution_count": null,
   "metadata": {},
   "outputs": [],
   "source": []
  },
  {
   "cell_type": "code",
   "execution_count": null,
   "metadata": {},
   "outputs": [],
   "source": []
  }
 ],
 "metadata": {
  "kernelspec": {
   "display_name": "eulerspython",
   "language": "python",
   "name": "eulerspython"
  }
 },
 "nbformat": 4,
 "nbformat_minor": 2
}
