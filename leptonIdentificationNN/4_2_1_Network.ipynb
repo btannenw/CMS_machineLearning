{
 "cells": [
  {
   "cell_type": "code",
   "execution_count": 1,
   "metadata": {},
   "outputs": [],
   "source": [
    "# Package imports\n",
    "import numpy as np\n",
    "from sklearn.model_selection import train_test_split\n",
    "\n",
    "# Matplotlib is a matlab like plotting library\n",
    "import matplotlib\n",
    "from matplotlib import pyplot as plt\n",
    "# SciKitLearn is a useful machine learning utilities library\n",
    "import sklearn\n",
    "# The sklearn dataset module helps generating |datasets\n",
    "import sklearn.datasets\n",
    "import sklearn.linear_model\n",
    "from sklearn.preprocessing import OneHotEncoder\n",
    "from sklearn.preprocessing import normalize\n",
    "from scipy.stats import gaussian_kde"
   ]
  },
  {
   "cell_type": "code",
   "execution_count": 2,
   "metadata": {},
   "outputs": [
    {
     "name": "stdout",
     "output_type": "stream",
     "text": [
      "(79102, 1)\n"
     ]
    }
   ],
   "source": [
    "# importing dataset\n",
    "# import data\n",
    "from DataExtraction import dataNoMass as data\n",
    "from DataExtraction import dataWithP2\n",
    "from DataExtraction import dataWithP2E2 \n",
    "from DataExtraction import dataWithMass \n",
    "# from DataExtraction import p2E2 as data\n",
    "# from DataExtraction import p2NegE2 as data\n",
    "from DataExtraction import labels\n",
    "#from DataExtraction import labels2D as labels\n",
    "data = np.array(data)\n",
    "labels = np.array(labels)\n",
    "labels = np.row_stack(labels)\n",
    "#labels = labels.T\n",
    "print(labels.shape)"
   ]
  },
  {
   "cell_type": "code",
   "execution_count": 3,
   "metadata": {},
   "outputs": [],
   "source": [
    "# split data \n",
    "train_data, test_data, train_labels, test_labels = train_test_split(data, labels, train_size=0.5, test_size=0.5, random_state=42)"
   ]
  },
  {
   "cell_type": "code",
   "execution_count": null,
   "metadata": {},
   "outputs": [],
   "source": []
  },
  {
   "cell_type": "code",
   "execution_count": 4,
   "metadata": {},
   "outputs": [],
   "source": [
    "# normalize data here\n"
   ]
  },
  {
   "cell_type": "code",
   "execution_count": 5,
   "metadata": {},
   "outputs": [
    {
     "name": "stdout",
     "output_type": "stream",
     "text": [
      "[28.73596191  0.8398658  -0.11143488 39.48083318]\n",
      "[1]\n",
      "[47.30611801  1.31948066 -0.59230787 94.81924115]\n",
      "[1]\n",
      "[151.81565857   0.9477132   -0.26961038 225.25115398]\n",
      "[0]\n",
      "[335.43484497  -0.39157015   0.69631833 361.48074898]\n",
      "[1]\n",
      "[32.45707321 -0.29633594  2.52936745 33.89280616]\n",
      "[1]\n",
      "label shape (79102, 1)\n"
     ]
    },
    {
     "data": {
      "text/plain": [
       "79102"
      ]
     },
     "execution_count": 5,
     "metadata": {},
     "output_type": "execute_result"
    }
   ],
   "source": [
    "# any other data manipulations/printing here\n",
    "for i in range(5):\n",
    "    print(train_data[i])\n",
    "    print(labels[i])\n",
    "    \n",
    "print(\"label shape\", labels.shape)\n",
    "labels.shape[0]"
   ]
  },
  {
   "cell_type": "code",
   "execution_count": 6,
   "metadata": {},
   "outputs": [],
   "source": [
    "# define softmax\n",
    "def softmax(z):\n",
    "    #Calculate exponent term first\n",
    "    exp_scores = np.exp(z)\n",
    "    return exp_scores / np.sum(exp_scores, axis=1, keepdims=True)"
   ]
  },
  {
   "cell_type": "code",
   "execution_count": 7,
   "metadata": {},
   "outputs": [],
   "source": [
    "# define loss functions\n",
    "\n",
    "# softmax loss\n",
    "def softmax_loss(y,y_hat):\n",
    "    # clipping value \n",
    "    minval = 0.000000000001\n",
    "    # number of samples\n",
    "    m = y.shape[0]\n",
    "    # loss formula, note that np.sum sums up the entire matrix and therefore does the job of two sums from the formula \n",
    "    loss = -1/m * np.sum(y * np.log(y_hat.clip(min=minval)))\n",
    "    return loss\n",
    "\n",
    "# crossentropy loss\n",
    "def crossEntropy_loss(y, y_hat):\n",
    "    m = y.shape[0]\n",
    "    if y.all() == 1:\n",
    "        return -1/m * np.sum(np.log(y_hat))\n",
    "    else:\n",
    "        return -1/m * np.sum(np.log(1 - y_hat))\n",
    "\n",
    "# mse loss\n",
    "def mse_loss(y, y_hat):\n",
    "    m = y.shape[0]\n",
    "    return np.sum((y_hat - y)**2) / m\n"
   ]
  },
  {
   "cell_type": "code",
   "execution_count": 8,
   "metadata": {},
   "outputs": [],
   "source": [
    "# define derivatives\n",
    "\n",
    "# loss derivative\n",
    "def loss_derivative(y,y_hat):\n",
    "    return (y_hat-y)\n",
    "\n",
    "# tanh derivative\n",
    "def tanh_derivative(x):\n",
    "    return (1 - np.power(x, 2))\n"
   ]
  },
  {
   "cell_type": "code",
   "execution_count": 9,
   "metadata": {},
   "outputs": [],
   "source": [
    "# forward propogation\n",
    "def forward_prop(model, a0):\n",
    "    \n",
    "    #Start Forward Propagation\n",
    "    \n",
    "    # Load parameters from model (1)\n",
    "    W1, b1, W2, b2 = model['W1'], model['b1'], model['W2'], model['b2']\n",
    "    \n",
    "    # Do the first Linear step \n",
    "    # Z1 is the input layer x times the dot product of the weights + our bias b\n",
    "    z1 = a0.dot(W1) + b1\n",
    "    \n",
    "    # Put it through the first activation function\n",
    "    a1 = np.tanh(z1)\n",
    "    \n",
    "    # Second linear step\n",
    "    z2 = a1.dot(W2) + b2\n",
    "    \n",
    "    # Second activation function\n",
    "    a2 = softmax(z2)\n",
    "    #print(\"a2 shape\", a2.shape)\n",
    "    #Store all results in these values\n",
    "    cache = {'a0':a0,'z1':z1,'a1':a1,'z2':z2,'a2':a2}\n",
    "    return cache\n",
    "    "
   ]
  },
  {
   "cell_type": "code",
   "execution_count": 16,
   "metadata": {},
   "outputs": [],
   "source": [
    "# This is the BACKWARD PROPAGATION function\n",
    "def backward_prop(model,cache,y):\n",
    "\n",
    "    # Load parameters from model\n",
    "    W1, b1, W2, b2 = model['W1'], model['b1'], model['W2'], model['b2']\n",
    "    \n",
    "    # add weights to print list\n",
    "    w00.append(W1[0])\n",
    "    w01.append(W1[1])\n",
    "    w02.append(W1[2])\n",
    "    w03.append(W1[3])\n",
    "    w10.append(W1[0])\n",
    "    w11.append(W1[1])\n",
    "    \n",
    "    # Load forward propagation results\n",
    "    a0,a1,a2 = cache['a0'],cache['a1'],cache['a2']\n",
    "    #print(\"a2 shape in back prop\", a2.shape)\n",
    "    #print(\"a1 shape in back prop\", a1.shape)\n",
    "    # Get number of samples\n",
    "    m = y.shape[0]\n",
    "    #print(\"m shape\", m)\n",
    "    # Calculate loss derivative with respect to output\n",
    "    dz2 = loss_derivative(y=y,y_hat=a2)\n",
    "    #print(\"y shape\", y.shape)\n",
    "    #print(\"dz2 shape\", dz2.shape)\n",
    "    # Calculate loss derivative with respect to second layer weights\n",
    "    dW2 = 1/m*(a1.T).dot(dz2) #dW2 = 1/m*(a1.T).dot(dz2) \n",
    "    #print(\"dW2 shape\", dW2.shape)\n",
    "    # Calculate loss derivative with respect to second layer bias\n",
    "    db2 = 1/m*np.sum(dz2, axis=0)\n",
    "    \n",
    "    dz1 = np.multiply(dz2.dot(W2.T),tanh_derivative(a1))\n",
    "    \n",
    "    dW1 = 1/m*np.dot(a0.T,dz1)\n",
    "    \n",
    "    db1 = 1/m*np.sum(dz1,axis=0)\n",
    "    \n",
    "    # Store gradients\n",
    "    grads = {'dW2':dW2,'db2':db2,'dW1':dW1,'db1':db1}\n",
    "    return grads\n"
   ]
  },
  {
   "cell_type": "code",
   "execution_count": 92,
   "metadata": {},
   "outputs": [],
   "source": [
    "#TRAINING PHASE\n",
    "def initialize_parameters(nn_input_dim,nn_hdim,nn_output_dim):\n",
    "    # First layer weights\n",
    "    W1 = 2 *np.random.randn(nn_input_dim, nn_hdim) - 1\n",
    "    \n",
    "    # First layer bias\n",
    "    b1 = np.zeros((1, nn_hdim))\n",
    "    \n",
    "    # Second layer weights\n",
    "    W2 = 2 * np.random.rand(nn_hdim, nn_output_dim)\n",
    "    b2 = np.zeros((1,nn_output_dim))\n",
    "    \n",
    "    \n",
    "    # Package and return model\n",
    "    model = { 'W1': W1, 'b1': b1, 'W2': W2, 'b2': b2}\n",
    "    return model\n",
    "def update_parameters(model,grads,learning_rate):\n",
    "    # Load parameters\n",
    "    W1, b1, W2, b2 = model['W1'], model['b1'], model['W2'], model['b2']\n",
    "    \n",
    "    # Update parameters\n",
    "    W1 -= learning_rate * grads['dW1']\n",
    "    b1 -= learning_rate * grads['db1']\n",
    "    W2 -= learning_rate * grads['dW2']\n",
    "    b2 -= learning_rate * grads['db2']\n",
    "#     W1 = learning_rate * W1# * grads['dW1']\n",
    "#     b1 = learning_rate * b1\n",
    "#     W2 = learning_rate * W2\n",
    "#     b2 = learning_rate * b2\n",
    "\n",
    "    \n",
    "    # Store and return parameters\n",
    "    model = { 'W1': W1, 'b1': b1, 'W2': W2, 'b2': b2}\n",
    "    return model\n",
    "def predict(model, x):\n",
    "    # Do forward pass\n",
    "    c = forward_prop(model,x)\n",
    "    #get y_hat\n",
    "    y_hat = c['a2']\n",
    "    # plotArr.append([x, y_hat]) #added to make plot\n",
    "    return y_hat\n",
    "def calc_accuracy(model,x,y):\n",
    "    # Get total number of examples\n",
    "    m = y.shape[0]\n",
    "    # Do a prediction with the model\n",
    "    pred = predict(model,x)\n",
    "    # Ensure prediction and truth vector y have the same shape\n",
    "    pred = pred.reshape(y.shape)\n",
    "    # Calculate the number of wrong examples\n",
    "    error = np.sum(np.abs(pred-y))\n",
    "    # Calculate accuracy\n",
    "    return (m - error)/m * 100\n",
    "def train(model,X_,y_,learning_rate, epochs=2001, print_loss=False):\n",
    "    # Gradient descent. Loop over epochs\n",
    "    for i in range(0, epochs):\n",
    "\n",
    "        # Forward propagation\n",
    "        cache = forward_prop(model,X_)\n",
    "        #a1, probs = cache['a1'],cache['a2']\n",
    "        # Backpropagation\n",
    "        \n",
    "        grads = backward_prop(model,cache,y_)\n",
    "        # Gradient descent parameter update\n",
    "        # Assign new parameters to the model\n",
    "        model = update_parameters(model=model,grads=grads,learning_rate=learning_rate)\n",
    "    \n",
    "        a2 = cache['a2']\n",
    "        thisLoss = mse_loss(y_,a2) # set loss function here\n",
    "        losses.append(thisLoss)\n",
    "        y_hat = predict(model,X_) # getting rid of this because it's wrong\n",
    "        y_true = y_.argmax(axis=1)\n",
    "        accur = accuracy_score(a2,train_labels)\n",
    "        train_accuracies.append(accur)\n",
    "        \n",
    "        if i % 50 == 0:\n",
    "            placeholderVar = accuracy_score(a2, train_labels)\n",
    "            test_accuracy = accuracyOfModel(model, test_data, test_labels)\n",
    "            test_accuracies.append(test_accuracy)\n",
    "            test_num.append(i)\n",
    "        #Printing loss & accuracy every 100 iterations\n",
    "        if print_loss and i % 300==0:\n",
    "            print('Loss after iteration',i,':',thisLoss)\n",
    "            print('Train Accuracy after iteration',i,':',accur*100,'%')\n",
    "            print('Test Accuracy after iteration',i,':',test_accuracy*100,'%')\n",
    "    return model"
   ]
  },
  {
   "cell_type": "code",
   "execution_count": 93,
   "metadata": {},
   "outputs": [],
   "source": [
    "# TESTING PHASE\n",
    "# test the accuracy of any model\n",
    "def accuracyOfModel(_model, _testData, _testLabels):\n",
    "    y_pred = predict(_model,_testData) # make predictions on test data\n",
    "    y_true = _testLabels # get usable info from labels\n",
    "    return accuracy_score(y_pred, y_true)\n",
    "\n",
    "def accuracy_score(_outputNodes, _labels):\n",
    "    for i in range(len(_outputNodes)-1):\n",
    "        if _outputNodes[i]>.5:\n",
    "            _outputNodes[i]=[1]\n",
    "        else:\n",
    "            _outputNodes[i]=[0]\n",
    "    numWrong = np.count_nonzero(np.subtract(_outputNodes,_labels))/2\n",
    "    return (len(_outputNodes)-numWrong)/len(_outputNodes)\n"
   ]
  },
  {
   "cell_type": "code",
   "execution_count": 103,
   "metadata": {},
   "outputs": [
    {
     "name": "stdout",
     "output_type": "stream",
     "text": [
      "Loss after iteration 0 : 0.49996207428383604\n",
      "Train Accuracy after iteration 0 : 75.0018962858082 %\n",
      "Test Accuracy after iteration 0 : 74.78319132259614 %\n",
      "Loss after iteration 300 : 0.49996207428383604\n",
      "Train Accuracy after iteration 300 : 75.0018962858082 %\n",
      "Test Accuracy after iteration 300 : 74.78319132259614 %\n",
      "Loss after iteration 600 : 0.49996207428383604\n",
      "Train Accuracy after iteration 600 : 75.0018962858082 %\n",
      "Test Accuracy after iteration 600 : 74.78319132259614 %\n",
      "Loss after iteration 900 : 0.49996207428383604\n",
      "Train Accuracy after iteration 900 : 75.0018962858082 %\n",
      "Test Accuracy after iteration 900 : 74.78319132259614 %\n",
      "Loss after iteration 1200 : 0.49996207428383604\n",
      "Train Accuracy after iteration 1200 : 75.0018962858082 %\n",
      "Test Accuracy after iteration 1200 : 74.78319132259614 %\n",
      "Loss after iteration 1500 : 0.49996207428383604\n",
      "Train Accuracy after iteration 1500 : 75.0018962858082 %\n",
      "Test Accuracy after iteration 1500 : 74.78319132259614 %\n",
      "Loss after iteration 1800 : 0.49996207428383604\n",
      "Train Accuracy after iteration 1800 : 75.0018962858082 %\n",
      "Test Accuracy after iteration 1800 : 74.78319132259614 %\n",
      "Loss after iteration 2100 : 0.49996207428383604\n",
      "Train Accuracy after iteration 2100 : 75.0018962858082 %\n",
      "Test Accuracy after iteration 2100 : 74.78319132259614 %\n"
     ]
    }
   ],
   "source": [
    "# plotArr = []\n",
    "losses = []\n",
    "train_accuracies = []\n",
    "test_accuracies = []\n",
    "test_num = []\n",
    "w00 = []\n",
    "w01 = []\n",
    "w02 = []\n",
    "w03 = []\n",
    "w10 = []\n",
    "w11 = []\n",
    "learnRate = 0.07\n",
    "np.random.seed(0)\n",
    "# This is what we return at the end\n",
    "model = initialize_parameters(nn_input_dim=4, nn_hdim= 2, nn_output_dim= 1)\n",
    "model = train(model,train_data,train_labels,learning_rate=learnRate,epochs=2101,print_loss=True)"
   ]
  },
  {
   "cell_type": "code",
   "execution_count": 104,
   "metadata": {},
   "outputs": [
    {
     "name": "stdout",
     "output_type": "stream",
     "text": [
      "weight 1 [[ 2.52810469 -0.19968558]\n",
      " [ 0.95747597  3.4817864 ]\n",
      " [ 2.73511598 -2.95455576]\n",
      " [ 0.90017684 -1.30271442]]\n",
      "bias 1 [[ 0.00000000e+00 -1.96903547e-13]]\n",
      "weight 2 [[-71.60209674]\n",
      " [ 74.2963053 ]]\n",
      "bias 2 [[-73.52942226]]\n"
     ]
    }
   ],
   "source": [
    "print(\"weight 1\", model['W1'])\n",
    "print(\"bias 1\", model['b1'])\n",
    "print(\"weight 2\", model['W2'])\n",
    "print(\"bias 2\", model['b2'])"
   ]
  },
  {
   "cell_type": "code",
   "execution_count": 105,
   "metadata": {},
   "outputs": [
    {
     "data": {
      "text/plain": [
       "<matplotlib.legend.Legend at 0x124f38940>"
      ]
     },
     "execution_count": 105,
     "metadata": {},
     "output_type": "execute_result"
    },
    {
     "data": {
      "image/png": "[encoded data removed]",
      "text/plain": [
       "<Figure size 432x288 with 1 Axes>"
      ]
     },
     "metadata": {
      "needs_background": "light"
     },
     "output_type": "display_data"
    }
   ],
   "source": [
    "plt.plot(w00, label=\"W00\")\n",
    "plt.legend()"
   ]
  },
  {
   "cell_type": "code",
   "execution_count": 106,
   "metadata": {},
   "outputs": [
    {
     "data": {
      "text/plain": [
       "Text(0, 0.5, 'Score')"
      ]
     },
     "execution_count": 106,
     "metadata": {},
     "output_type": "execute_result"
    },
    {
     "data": {
      "image/png": "[encoded data removed]",
      "text/plain": [
       "<Figure size 432x288 with 1 Axes>"
      ]
     },
     "metadata": {
      "needs_background": "light"
     },
     "output_type": "display_data"
    }
   ],
   "source": [
    "plt.plot(losses, label=\"Loss\")\n",
    "plt.plot(train_accuracies, label=\"Train Accuracy\")\n",
    "plt.scatter(test_num, test_accuracies, label=\"Test Accuracy\", s=16, color=\"green\")\n",
    "#plt.plot(test_accuracies, label=\"Test Accuracy\")\n",
    "plt.plot()\n",
    "plt.legend()\n",
    "plt.title(\"Network Loss and Accuracy per Epoch with %1.3f Learning Rate\" %learnRate)\n",
    "plt.xlabel(\"Epoch\")\n",
    "plt.ylabel(\"Score\")"
   ]
  },
  {
   "cell_type": "code",
   "execution_count": 107,
   "metadata": {},
   "outputs": [],
   "source": [
    "cache = forward_prop(model, test_data)\n",
    "testgrads = backward_prop(model,cache,train_labels)"
   ]
  },
  {
   "cell_type": "code",
   "execution_count": 108,
   "metadata": {},
   "outputs": [
    {
     "name": "stdout",
     "output_type": "stream",
     "text": [
      "cache a0 [[ 3.04954052e+01  1.73306084e+00 -1.82328641e+00  8.89655894e+01]\n",
      " [ 2.89854202e+01 -7.85819769e-01 -3.02078390e+00  3.84051155e+01]\n",
      " [ 1.25733505e+02 -1.58720958e+00 -1.75277555e+00  3.20279714e+02]\n",
      " ...\n",
      " [ 2.29264641e+01 -7.84133911e-01  4.91462834e-02  3.03434493e+01]\n",
      " [ 4.72479477e+01  4.24064606e-01 -1.08015470e-01  5.15604216e+01]\n",
      " [ 3.28610115e+01  6.34800732e-01  1.06677556e+00  3.97075345e+01]]\n",
      "cache a1 [[ 1. -1.]\n",
      " [ 1. -1.]\n",
      " [ 1. -1.]\n",
      " ...\n",
      " [ 1. -1.]\n",
      " [ 1. -1.]\n",
      " [ 1. -1.]]\n",
      "cache z1 [[ 153.85280391 -110.56509958]\n",
      " [  98.83497431  -49.62985025]\n",
      " [ 599.86208452 -442.68782094]\n",
      " ...\n",
      " [  84.65860299  -46.98232545]\n",
      " [ 165.97185225  -74.80759849]\n",
      " [ 122.34544144  -59.23105523]]\n",
      "cache a2 [[1.]\n",
      " [1.]\n",
      " [1.]\n",
      " ...\n",
      " [1.]\n",
      " [1.]\n",
      " [1.]]\n",
      "cache z2 [[-219.42782431]\n",
      " [-219.42782431]\n",
      " [-219.42782431]\n",
      " ...\n",
      " [-219.42782431]\n",
      " [-219.42782431]\n",
      " [-219.42782431]]\n"
     ]
    }
   ],
   "source": [
    "print(\"cache a0\", cache['a0'])\n",
    "print(\"cache a1\", cache['a1'])\n",
    "print(\"cache z1\", cache['z1'])\n",
    "print(\"cache a2\", cache['a2'])\n",
    "print(\"cache z2\", cache['z2'])"
   ]
  },
  {
   "cell_type": "code",
   "execution_count": 109,
   "metadata": {},
   "outputs": [
    {
     "name": "stdout",
     "output_type": "stream",
     "text": [
      "test grads dW2 [[ 0.49996207]\n",
      " [-0.49996207]]\n",
      "test grads db2 [0.49996207]\n",
      "test grads dW1 [[ 0.00000000e+00  2.21905169e-13]\n",
      " [ 0.00000000e+00  2.17623866e-15]\n",
      " [ 0.00000000e+00 -4.31867194e-14]\n",
      " [ 0.00000000e+00  2.26490913e-13]]\n",
      "test grads db1 [0.00000000e+00 1.41896446e-14]\n"
     ]
    }
   ],
   "source": [
    "print(\"test grads dW2\", testgrads['dW2'])\n",
    "print(\"test grads db2\", testgrads['db2'])\n",
    "print(\"test grads dW1\", testgrads['dW1'])\n",
    "print(\"test grads db1\", testgrads['db1'])"
   ]
  },
  {
   "cell_type": "code",
   "execution_count": null,
   "metadata": {},
   "outputs": [],
   "source": []
  }
 ],
 "metadata": {
  "kernelspec": {
   "display_name": "eulerspython",
   "language": "python",
   "name": "eulerspython"
  },
  "language_info": {
   "codemirror_mode": {
    "name": "ipython",
    "version": 3
   },
   "file_extension": ".py",
   "mimetype": "text/x-python",
   "name": "python",
   "nbconvert_exporter": "python",
   "pygments_lexer": "ipython3",
   "version": "3.6.5"
  }
 },
 "nbformat": 4,
 "nbformat_minor": 2
}
