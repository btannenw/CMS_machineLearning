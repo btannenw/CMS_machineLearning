{
 "cells": [
  {
   "cell_type": "markdown",
   "metadata": {},
   "source": [
    "# Plotting Lepton Features\n",
    "## Background\n",
    "The purpose of these plots is to show the distribution of lepton features for the purpose of better selecting neural network training data, and informing how well the network should train on a given dataset.\n",
    "## Procedure\n",
    "### Phase 1\n",
    "Plot lepton features without modifications to see distributions.\n",
    "### Phase 2 \n",
    "Made modifications to the lepton data to allow for plotting such that the plots of each lepton flavor can be compared. \n",
    "## Results"
   ]
  },
  {
   "cell_type": "code",
   "execution_count": 4,
   "metadata": {},
   "outputs": [],
   "source": [
    "# Package imports\n",
    "import numpy as np\n",
    "# Matplotlib is a matlab like plotting library\n",
    "import matplotlib\n",
    "from matplotlib import pyplot as plt"
   ]
  },
  {
   "cell_type": "code",
   "execution_count": 5,
   "metadata": {},
   "outputs": [],
   "source": [
    "# pt eta phi E\n",
    "from DataExtraction import dataNoMass\n",
    "from DataExtraction import labels"
   ]
  },
  {
   "cell_type": "code",
   "execution_count": 147,
   "metadata": {},
   "outputs": [],
   "source": [
    "ms = [] # array of muons\n",
    "es = [] # array of electrons"
   ]
  },
  {
   "cell_type": "code",
   "execution_count": 148,
   "metadata": {},
   "outputs": [],
   "source": [
    "for lept, im in zip(dataNoMass, labels):\n",
    "    if(im==1): \n",
    "        ms.append(lept)\n",
    "    if(im==0):\n",
    "        es.append(lept)"
   ]
  },
  {
   "cell_type": "code",
   "execution_count": 149,
   "metadata": {},
   "outputs": [],
   "source": [
    "ms = np.array(ms)\n",
    "mc = (0.2, 0.4, 0.6, 0.5)\n",
    "es = np.array(es)\n",
    "ec = (0.9, 0.4, 0.2, 0.5)"
   ]
  },
  {
   "cell_type": "code",
   "execution_count": 150,
   "metadata": {},
   "outputs": [
    {
     "name": "stdout",
     "output_type": "stream",
     "text": [
      "[68.21257782  0.58320415  1.86097527 80.14567346]\n"
     ]
    }
   ],
   "source": [
    "print(ms[0])"
   ]
  },
  {
   "cell_type": "code",
   "execution_count": 165,
   "metadata": {},
   "outputs": [
    {
     "data": {
      "text/plain": [
       "(array([3.0564e+04, 7.5660e+03, 1.2290e+03, 2.4500e+02, 8.0000e+01,\n",
       "        3.2000e+01, 2.0000e+00, 1.0000e+00, 0.0000e+00, 2.0000e+00]),\n",
       " array([ 15.00047398,  79.28960505, 143.57873611, 207.86786718,\n",
       "        272.15699825, 336.44612932, 400.73526039, 465.02439146,\n",
       "        529.31352253, 593.6026536 , 657.89178467]),\n",
       " <a list of 10 Patch objects>)"
      ]
     },
     "execution_count": 165,
     "metadata": {},
     "output_type": "execute_result"
    },
    {
     "data": {
      "image/png": "[encoded data removed]",
      "text/plain": [
       "<Figure size 432x288 with 2 Axes>"
      ]
     },
     "metadata": {
      "needs_background": "light"
     },
     "output_type": "display_data"
    }
   ],
   "source": [
    "# Phase 1 plot\n",
    "plt.title(\"Lepton Transverse Momentum\")\n",
    "plt.subplot(1,2,1)\n",
    "plt.title(\"Muon pt\")\n",
    "plt.hist(ms[:,0], label=\"Muons\", color=mc)\n",
    "plt.subplot(1,2,2)\n",
    "plt.title(\"Electron pt\")\n",
    "plt.hist(es[:,0], label=\"Electrons\", color=ec)"
   ]
  },
  {
   "cell_type": "code",
   "execution_count": 175,
   "metadata": {},
   "outputs": [
    {
     "data": {
      "text/plain": [
       "(array([2.1082e+04, 1.2247e+04, 4.1520e+03, 1.3920e+03, 4.8200e+02,\n",
       "        1.9200e+02, 8.6000e+01, 4.3000e+01, 1.8000e+01, 2.2000e+01]),\n",
       " array([ 15.00047398,  53.46930475,  91.93813553, 130.4069663 ,\n",
       "        168.87579708, 207.34462786, 245.81345863, 284.28228941,\n",
       "        322.75112019, 361.21995096, 399.68878174]),\n",
       " <a list of 10 Patch objects>)"
      ]
     },
     "execution_count": 175,
     "metadata": {},
     "output_type": "execute_result"
    },
    {
     "data": {
      "image/png": "[encoded data removed]",
      "text/plain": [
       "<Figure size 432x288 with 2 Axes>"
      ]
     },
     "metadata": {
      "needs_background": "light"
     },
     "output_type": "display_data"
    }
   ],
   "source": [
    "##### Phase 2 plot\n",
    "# todo: discard extreme values, or make some type of normalization\n",
    "# todo: figure out why the density flag isn't working\n",
    "# todo: discard muon values above 50000\n",
    "# todo: discard electron values above 400\n",
    "# discarded muon values above 50000, found that should delete above 5000\n",
    "# discarded muon values above 5000, found that should delete above 2000\n",
    "# discarded muon values above 2000, found that should delete above 750\n",
    "# discarded muon values above 750, found that should delete above 450\n",
    "# discarded electron values above 450\n",
    "# discarded electron and muon values above 400\n",
    "# made axis limits the same for both \n",
    "\n",
    "# prune muon data\n",
    "mpts = []\n",
    "for m in ms: \n",
    "    if(m[0]<400):\n",
    "        mpts.append(m[0])\n",
    "mpts = np.array(mpts)\n",
    "\n",
    "# prune electron data\n",
    "epts = []\n",
    "for e in es: \n",
    "    if(e[0]<400):\n",
    "        epts.append(e[0])\n",
    "epts = np.array(epts)\n",
    "\n",
    "plt.title(\"Lepton Transverse Momentum\")\n",
    "plt.subplot(1,2,1)\n",
    "plt.ylim(0,22000)\n",
    "plt.title(\"Muon pt\")\n",
    "plt.hist(mpts, label=\"Muons\", color=mc,)\n",
    "plt.subplot(1,2,2)\n",
    "plt.ylim(0,22000)\n",
    "plt.title(\"Electron pt\")\n",
    "plt.hist(epts, label=\"Electrons\", color=ec,)"
   ]
  },
  {
   "cell_type": "code",
   "execution_count": 137,
   "metadata": {},
   "outputs": [
    {
     "data": {
      "text/plain": [
       "(array([1956., 2790., 4266., 5214., 5615., 5812., 5213., 4094., 2698.,\n",
       "        2063.]),\n",
       " array([-2.39981532e+00, -1.91989381e+00, -1.43997231e+00, -9.60050797e-01,\n",
       "        -4.80129290e-01, -2.07781792e-04,  4.79713726e-01,  9.59635234e-01,\n",
       "         1.43955674e+00,  1.91947825e+00,  2.39939976e+00]),\n",
       " <a list of 10 Patch objects>)"
      ]
     },
     "execution_count": 137,
     "metadata": {},
     "output_type": "execute_result"
    },
    {
     "data": {
      "image/png": "[encoded data removed]",
      "text/plain": [
       "<Figure size 432x288 with 2 Axes>"
      ]
     },
     "metadata": {
      "needs_background": "light"
     },
     "output_type": "display_data"
    }
   ],
   "source": [
    "# Phase 1 plot\n",
    "plt.subplot(1,2,1)\n",
    "plt.title(\"Muon Eta\")\n",
    "plt.hist(ms[:,1], label=\"Muons\", color=mc)\n",
    "plt.subplot(1,2,2)\n",
    "plt.title(\"Electron Eta\")\n",
    "plt.hist(es[:,1], label=\"Electrons\", color=ec)\n",
    "# plt.plot(es[:,3], label=\"Electrons\", color=ec)\n",
    "#plt.legend()"
   ]
  },
  {
   "cell_type": "code",
   "execution_count": 178,
   "metadata": {},
   "outputs": [
    {
     "data": {
      "text/plain": [
       "(array([1956., 2790., 4266., 5214., 5615., 5812., 5213., 4094., 2698.,\n",
       "        2063.]),\n",
       " array([-2.39981532e+00, -1.91989381e+00, -1.43997231e+00, -9.60050797e-01,\n",
       "        -4.80129290e-01, -2.07781792e-04,  4.79713726e-01,  9.59635234e-01,\n",
       "         1.43955674e+00,  1.91947825e+00,  2.39939976e+00]),\n",
       " <a list of 10 Patch objects>)"
      ]
     },
     "execution_count": 178,
     "metadata": {},
     "output_type": "execute_result"
    },
    {
     "data": {
      "image/png": "[encoded data removed]",
      "text/plain": [
       "<Figure size 432x288 with 2 Axes>"
      ]
     },
     "metadata": {
      "needs_background": "light"
     },
     "output_type": "display_data"
    }
   ],
   "source": [
    "# Phase 2 plot\n",
    "# standardized plot axes \n",
    "plt.subplot(1,2,1)\n",
    "plt.ylim(0, 6000)\n",
    "plt.xlim(-2.5, 2.5)\n",
    "plt.title(\"Muon Eta\")\n",
    "plt.hist(ms[:,1], label=\"Muons\", color=mc)\n",
    "plt.subplot(1,2,2)\n",
    "plt.ylim(0, 6000)\n",
    "plt.xlim(-2.5, 2.5)\n",
    "plt.title(\"Electron Eta\")\n",
    "plt.hist(es[:,1], label=\"Electrons\", color=ec)\n",
    "# plt.plot(es[:,3], label=\"Electrons\", color=ec)\n",
    "#plt.legend()"
   ]
  },
  {
   "cell_type": "code",
   "execution_count": 184,
   "metadata": {},
   "outputs": [
    {
     "data": {
      "text/plain": [
       "(array([4065., 4001., 4029., 3993., 4029., 3955., 3874., 4004., 3948.,\n",
       "        3823.]),\n",
       " array([-3.14097357e+00, -2.51272407e+00, -1.88447456e+00, -1.25622506e+00,\n",
       "        -6.27975559e-01,  2.73942947e-04,  6.28523445e-01,  1.25677295e+00,\n",
       "         1.88502245e+00,  2.51327195e+00,  3.14152145e+00]),\n",
       " <a list of 10 Patch objects>)"
      ]
     },
     "execution_count": 184,
     "metadata": {},
     "output_type": "execute_result"
    },
    {
     "data": {
      "image/png": "[encoded data removed]",
      "text/plain": [
       "<Figure size 432x288 with 2 Axes>"
      ]
     },
     "metadata": {
      "needs_background": "light"
     },
     "output_type": "display_data"
    }
   ],
   "source": [
    "# Phase 1 plot\n",
    "plt.title(\"Lepton Phi\")\n",
    "plt.subplot(1,2,1)\n",
    "plt.title(\"Muon Phi\")\n",
    "plt.hist(ms[:,2], label=\"Muons\", color=mc)\n",
    "plt.subplot(1,2,2)\n",
    "plt.title(\"Electron Phi\")\n",
    "plt.hist(es[:,2], label=\"Electrons\", color=ec)"
   ]
  },
  {
   "cell_type": "code",
   "execution_count": 140,
   "metadata": {},
   "outputs": [
    {
     "data": {
      "text/plain": [
       "(array([3.3918e+04, 4.6060e+03, 9.0000e+02, 2.0800e+02, 5.1000e+01,\n",
       "        2.3000e+01, 1.0000e+01, 4.0000e+00, 0.0000e+00, 1.0000e+00]),\n",
       " array([  15.02103616,  181.85496794,  348.68889971,  515.52283149,\n",
       "         682.35676326,  849.19069504, 1016.02462681, 1182.85855858,\n",
       "        1349.69249036, 1516.52642213, 1683.36035391]),\n",
       " <a list of 10 Patch objects>)"
      ]
     },
     "execution_count": 140,
     "metadata": {},
     "output_type": "execute_result"
    },
    {
     "data": {
      "image/png": "[encoded data removed]",
      "text/plain": [
       "<Figure size 432x288 with 2 Axes>"
      ]
     },
     "metadata": {
      "needs_background": "light"
     },
     "output_type": "display_data"
    }
   ],
   "source": [
    "# Phase 1 plot\n",
    "plt.title(\"Lepton Energy\")\n",
    "plt.subplot(1,2,1)\n",
    "plt.title(\"Muon Energy\")\n",
    "plt.hist(ms[:,3], label=\"Muons\", color=mc)\n",
    "plt.subplot(1,2,2)\n",
    "plt.title(\"Electron Energy\")\n",
    "plt.hist(es[:,3], label=\"Electrons\", color=ec)"
   ]
  },
  {
   "cell_type": "code",
   "execution_count": 141,
   "metadata": {},
   "outputs": [
    {
     "data": {
      "text/plain": [
       "(array([5.11829929e-03, 6.95055325e-04, 1.35811939e-04, 3.13876482e-05,\n",
       "        7.69600990e-06, 3.47074956e-06, 1.50902155e-06, 6.03608619e-07,\n",
       "        0.00000000e+00, 1.50902155e-07]),\n",
       " array([  15.02103616,  181.85496794,  348.68889971,  515.52283149,\n",
       "         682.35676326,  849.19069504, 1016.02462681, 1182.85855858,\n",
       "        1349.69249036, 1516.52642213, 1683.36035391]),\n",
       " <a list of 10 Patch objects>)"
      ]
     },
     "execution_count": 141,
     "metadata": {},
     "output_type": "execute_result"
    },
    {
     "data": {
      "image/png": "[encoded data removed]",
      "text/plain": [
       "<Figure size 432x288 with 2 Axes>"
      ]
     },
     "metadata": {
      "needs_background": "light"
     },
     "output_type": "display_data"
    }
   ],
   "source": [
    "# Phase 2 plot\n",
    "# todo: discard extreme values, or make some type of normalization\n",
    "plt.title(\"Lepton Energy\")\n",
    "plt.subplot(1,2,1)\n",
    "plt.title(\"Muon Energy\")\n",
    "plt.hist(ms[:,3], label=\"Muons\", color=mc, density=1)\n",
    "plt.subplot(1,2,2)\n",
    "plt.title(\"Electron Energy\")\n",
    "plt.hist(es[:,3], label=\"Electrons\", color=ec, density=1)"
   ]
  },
  {
   "cell_type": "code",
   "execution_count": null,
   "metadata": {},
   "outputs": [],
   "source": []
  }
 ],
 "metadata": {
  "kernelspec": {
   "display_name": "eulerspython",
   "language": "python",
   "name": "eulerspython"
  },
  "language_info": {
   "codemirror_mode": {
    "name": "ipython",
    "version": 3
   },
   "file_extension": ".py",
   "mimetype": "text/x-python",
   "name": "python",
   "nbconvert_exporter": "python",
   "pygments_lexer": "ipython3",
   "version": "3.6.5"
  }
 },
 "nbformat": 4,
 "nbformat_minor": 2
}
