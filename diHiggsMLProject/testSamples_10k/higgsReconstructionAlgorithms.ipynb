{
 "cells": [
  {
   "cell_type": "code",
   "execution_count": 53,
   "metadata": {},
   "outputs": [],
   "source": [
    "import uproot, uproot_methods\n",
    "import uproot_methods.classes.TLorentzVector as TLorentzVector\n",
    "import matplotlib.pyplot as plt\n",
    "import numpy as np\n",
    "\n",
    "t = 0.7  # transparency of plots\n",
    "\n",
    "testRun = False\n",
    "dR_cut_quarkToJet = 0.05"
   ]
  },
  {
   "cell_type": "code",
   "execution_count": 2,
   "metadata": {},
   "outputs": [],
   "source": [
    "def returnListOfTruthBQuarkIndicesByDaughters(a_D1, a_D2, a_PID):\n",
    "    bQuarkIndices = []\n",
    "    \n",
    "    for iParticle in range(0, len(a_D1)):\n",
    "         if a_PID[iParticle]==25:\n",
    "            daughter1 = a_D1[iParticle]\n",
    "            daughter2 = a_D2[iParticle]\n",
    "            daughter1_PID = a_PID[daughter1]\n",
    "            daughter2_PID = a_PID[daughter2]\n",
    "            #print('Event ',iEvt,'has higgs at position',iParticle,'with daughter1 (',daughter1,\n",
    "            #    ') of PID',daughter1_PID,'and daughter2 (',daughter2,') of PID',daughter2_PID)\n",
    "            if abs(daughter1_PID) == 5 and abs(daughter2_PID)==5:\n",
    "                bQuarkIndices.append(daughter1)\n",
    "                bQuarkIndices.append(daughter2)\n",
    "    \n",
    "    return bQuarkIndices\n",
    "\n",
    "\n",
    "def returnListOfTruthBQuarkIndicesByStatus(a_status):\n",
    "    bQuarkIndices = []\n",
    "\n",
    "    for iParticle in range(0, len(a_status)):\n",
    "        if a_status[iParticle]==23:\n",
    "            bQuarkIndices.append(iParticle)\n",
    "\n",
    "    return bQuarkIndices\n"
   ]
  },
  {
   "cell_type": "code",
   "execution_count": 42,
   "metadata": {},
   "outputs": [],
   "source": [
    "\n",
    "\n",
    "def returnNumberAndListOfJetIndicesPassingCuts(a_jetPt, a_jetEta, cut_jetPt, cut_jetEta):\n",
    "    _jetIndices = []\n",
    "    _nJets = 0\n",
    "    \n",
    "    for iJet in range(0, len(a_jetPt)): \n",
    "        if a_jetPt[iJet] > cut_jetPt and abs(a_jetEta[iJet]) < cut_jetEta:\n",
    "            _jetIndices.append(iJet)\n",
    "            _nJets += 1\n",
    "            \n",
    "    return _nJets, _jetIndices"
   ]
  },
  {
   "cell_type": "code",
   "execution_count": 57,
   "metadata": {},
   "outputs": [
    {
     "name": "stdout",
     "output_type": "stream",
     "text": [
      "Analyzing event number 0\n",
      "Analyzing event number 1000\n",
      "Analyzing event number 2000\n",
      "Analyzing event number 3000\n",
      "Analyzing event number 4000\n",
      "Analyzing event number 5000\n",
      "Analyzing event number 6000\n",
      "Analyzing event number 7000\n",
      "Analyzing event number 8000\n",
      "Analyzing event number 9000\n",
      "Number of Events with >= 4 jet: 8164\n",
      "Number of Events with == 4 jet: 2694\n",
      "Number of Events with 4 truth-matchable jets: 532\n"
     ]
    }
   ],
   "source": [
    "delphes_hh= uproot.open('../../../MG5_aMC_v2_6_1/ppToHHto4b_14TeV/Events/run_02_decayed_1/tag_1_delphes_events.root')['Delphes']\n",
    "#b_particles = uproot.tree.TBranchMethods.array(delphes_hh['Particle'])\n",
    "#l_genD1     = uproot.tree.TBranchMethods.array(delphes_hh['Particle']['Particle.D1']).tolist()\n",
    "#l_genD2     = uproot.tree.TBranchMethods.array(delphes_hh['Particle']['Particle.D2']).tolist()\n",
    "l_genPID    = uproot.tree.TBranchMethods.array(delphes_hh['Particle']['Particle.PID']).tolist()\n",
    "l_genStatus = uproot.tree.TBranchMethods.array(delphes_hh['Particle']['Particle.Status']).tolist()\n",
    "l_genPt     = uproot.tree.TBranchMethods.array(delphes_hh['Particle']['Particle.PT']).tolist()\n",
    "l_genEta    = uproot.tree.TBranchMethods.array(delphes_hh['Particle']['Particle.Eta']).tolist()\n",
    "l_genPhi    = uproot.tree.TBranchMethods.array(delphes_hh['Particle']['Particle.Phi']).tolist()\n",
    "l_genMass   = uproot.tree.TBranchMethods.array(delphes_hh['Particle']['Particle.Mass']).tolist()\n",
    "l_jetPt     = uproot.tree.TBranchMethods.array(delphes_hh['Jet']['Jet.PT']).tolist()\n",
    "l_jetEta    = uproot.tree.TBranchMethods.array(delphes_hh['Jet']['Jet.Eta']).tolist()\n",
    "l_jetPhi    = uproot.tree.TBranchMethods.array(delphes_hh['Jet']['Jet.Phi']).tolist()\n",
    "l_jetMass   = uproot.tree.TBranchMethods.array(delphes_hh['Jet']['Jet.Mass']).tolist()\n",
    "\n",
    "nEventsWithExactly4Jets = 0\n",
    "nEventsWithAtLeast4Jets = 0\n",
    "nEventsWith4MatchableJets = 0\n",
    "\n",
    "for iEvt in range(0,delphes_hh.fEntries):\n",
    "    # *** 0. Kick-out condition for testing\n",
    "    if iEvt > 40 and testRun is True:\n",
    "        continue\n",
    "    if iEvt%1000==0:\n",
    "        print(\"Analyzing event number\",iEvt)\n",
    "    \n",
    "    # *** 1. Get truth information\n",
    "    indicesByStatus    = returnListOfTruthBQuarkIndicesByStatus(l_genStatus[iEvt])   \n",
    "    if len(indicesByStatus) != 4:\n",
    "        print (\"!!! WARNING: iEvt = {0} did not find 4 truth b-quarks. Only found {1} !!!\".format(iEvt, len(indicesByStatus)))\n",
    "        continue\n",
    "    #print(indicesByDaughters)\n",
    "        \n",
    "    # *** 2. Get jet reco information\n",
    "    nJets, jetIndices = returnNumberAndListOfJetIndicesPassingCuts(l_jetPt[iEvt], l_jetEta[iEvt], 20.0, 2.5)\n",
    "    if nJets < 4:\n",
    "        continue\n",
    "    nEventsWithAtLeast4Jets += 1\n",
    "    #print(nJets, jetIndices)\n",
    "    if nJets == 4:\n",
    "        nEventsWithExactly4Jets += 1\n",
    "    \n",
    "    # *** 3. Do some matching\n",
    "    matchedQuarksToJets = {}\n",
    "    for iQuark in indicesByStatus:\n",
    "        tlv_quark = TLorentzVector.PtEtaPhiMassLorentzVector( l_genPt[iEvt][iQuark], l_genEta[iEvt][iQuark], l_genPhi[iEvt][iQuark], l_genMass[iEvt][iQuark])\n",
    "        for iJet in jetIndices:\n",
    "            tlv_jet = TLorentzVector.PtEtaPhiMassLorentzVector( l_jetPt[iEvt][iJet], l_jetEta[iEvt][iJet], l_jetPhi[iEvt][iJet], l_jetMass[iEvt][iJet])\n",
    "\n",
    "            # skip jets\n",
    "            if tlv_quark.delta_r( tlv_jet) > dR_cut_quarkToJet:\n",
    "                continue\n",
    "                \n",
    "            if iQuark not in matchedQuarksToJets.keys():\n",
    "                matchedQuarksToJets.update({iQuark:[iJet]})\n",
    "            else:\n",
    "                matchedQuarksToJets[iQuark].append(iJet)\n",
    "\n",
    "    #print( matchedQuarksToJets, all(len(matchedJets) == 1 for matchedJets in matchedQuarksToJets.values()) )\n",
    "    if all(len(matchedJets) == 1 for matchedJets in matchedQuarksToJets.values()) and len(matchedQuarksToJets)==4:\n",
    "        nEventsWith4MatchableJets += 1\n",
    "        \n",
    "print(\"Number of Events with >= 4 jet:\",nEventsWithAtLeast4Jets)\n",
    "print(\"Number of Events with == 4 jet:\",nEventsWithExactly4Jets)\n",
    "print(\"Number of Events with 4 truth-matchable jets:\",nEventsWith4MatchableJets)\n",
    "    \n"
   ]
  },
  {
   "cell_type": "code",
   "execution_count": null,
   "metadata": {},
   "outputs": [],
   "source": []
  },
  {
   "cell_type": "code",
   "execution_count": null,
   "metadata": {},
   "outputs": [],
   "source": []
  },
  {
   "cell_type": "code",
   "execution_count": 58,
   "metadata": {},
   "outputs": [
    {
     "data": {
      "text/plain": [
       "1.8387761814701145"
      ]
     },
     "execution_count": 58,
     "metadata": {},
     "output_type": "execute_result"
    }
   ],
   "source": [
    "a=TLorentzVector.PtEtaPhiMassLorentzVector(1,1,1,1)\n",
    "a.E"
   ]
  },
  {
   "cell_type": "code",
   "execution_count": null,
   "metadata": {},
   "outputs": [],
   "source": []
  },
  {
   "cell_type": "code",
   "execution_count": null,
   "metadata": {},
   "outputs": [],
   "source": []
  },
  {
   "cell_type": "code",
   "execution_count": null,
   "metadata": {},
   "outputs": [],
   "source": []
  }
 ],
 "metadata": {
  "kernelspec": {
   "display_name": "Python 3",
   "language": "python",
   "name": "python3"
  },
  "language_info": {
   "codemirror_mode": {
    "name": "ipython",
    "version": 3
   },
   "file_extension": ".py",
   "mimetype": "text/x-python",
   "name": "python",
   "nbconvert_exporter": "python",
   "pygments_lexer": "ipython3",
   "version": "3.6.8"
  }
 },
 "nbformat": 4,
 "nbformat_minor": 2
}
