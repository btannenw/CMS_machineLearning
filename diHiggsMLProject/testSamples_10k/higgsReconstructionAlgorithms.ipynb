{
 "cells": [
  {
   "cell_type": "code",
   "execution_count": 117,
   "metadata": {},
   "outputs": [],
   "source": [
    "import uproot, uproot_methods\n",
    "import uproot_methods.classes.TLorentzVector as TLorentzVector\n",
    "import matplotlib.pyplot as plt\n",
    "import numpy as np\n",
    "import itertools\n",
    "\n",
    "t = 0.7  # transparency of plots\n",
    "\n",
    "testRun = True\n",
    "dR_cut_quarkToJet = 0.40"
   ]
  },
  {
   "cell_type": "code",
   "execution_count": 11,
   "metadata": {},
   "outputs": [],
   "source": [
    "delphes_hh= uproot.open('../../../MG5_aMC_v2_6_1/ppToHHto4b_14TeV/Events/run_02_decayed_1/tag_1_delphes_events.root')['Delphes']\n",
    "#b_particles = uproot.tree.TBranchMethods.array(delphes_hh['Particle'])\n",
    "#l_genD1     = uproot.tree.TBranchMethods.array(delphes_hh['Particle']['Particle.D1']).tolist()\n",
    "#l_genD2     = uproot.tree.TBranchMethods.array(delphes_hh['Particle']['Particle.D2']).tolist()\n",
    "l_genPID    = uproot.tree.TBranchMethods.array(delphes_hh['Particle']['Particle.PID']).tolist()\n",
    "l_genStatus = uproot.tree.TBranchMethods.array(delphes_hh['Particle']['Particle.Status']).tolist()\n",
    "l_genPt     = uproot.tree.TBranchMethods.array(delphes_hh['Particle']['Particle.PT']).tolist()\n",
    "l_genEta    = uproot.tree.TBranchMethods.array(delphes_hh['Particle']['Particle.Eta']).tolist()\n",
    "l_genPhi    = uproot.tree.TBranchMethods.array(delphes_hh['Particle']['Particle.Phi']).tolist()\n",
    "l_genMass   = uproot.tree.TBranchMethods.array(delphes_hh['Particle']['Particle.Mass']).tolist()\n",
    "l_jetPt     = uproot.tree.TBranchMethods.array(delphes_hh['Jet']['Jet.PT']).tolist()\n",
    "l_jetEta    = uproot.tree.TBranchMethods.array(delphes_hh['Jet']['Jet.Eta']).tolist()\n",
    "l_jetPhi    = uproot.tree.TBranchMethods.array(delphes_hh['Jet']['Jet.Phi']).tolist()\n",
    "l_jetMass   = uproot.tree.TBranchMethods.array(delphes_hh['Jet']['Jet.Mass']).tolist()\n"
   ]
  },
  {
   "cell_type": "code",
   "execution_count": 110,
   "metadata": {},
   "outputs": [],
   "source": [
    "def returnListOfTruthBQuarkIndicesByDaughters(_D1, _D2, _PID):\n",
    "    _bQuarkIndices = []\n",
    "    \n",
    "    for iParticle in range(0, len(_D1)):\n",
    "         if _PID[iParticle]==25:\n",
    "            _daughter1 = _D1[iParticle]\n",
    "            _daughter2 = _D2[iParticle]\n",
    "            _daughter1_PID = _PID[daughter1]\n",
    "            _daughter2_PID = _PID[daughter2]\n",
    "            #print('Event ',iEvt,'has higgs at position',iParticle,'with daughter1 (',daughter1,\n",
    "            #    ') of PID',daughter1_PID,'and daughter2 (',daughter2,') of PID',daughter2_PID)\n",
    "            if abs(_daughter1_PID) == 5 and abs(_daughter2_PID)==5:\n",
    "                _bQuarkIndices.append(_daughter1)\n",
    "                _bQuarkIndices.append(_daughter2)\n",
    "    \n",
    "    return _bQuarkIndices\n",
    "\n",
    "\n",
    "def returnListOfTruthBQuarkIndicesByStatus(_status):\n",
    "    _bQuarkIndices = []\n",
    "\n",
    "    for iParticle in range(0, len(_status)):\n",
    "        if _status[iParticle]==23:\n",
    "            _bQuarkIndices.append(iParticle)\n",
    "\n",
    "    return _bQuarkIndices\n",
    "\n",
    "def returnNumberAndListOfJetIndicesPassingCuts(_jetPt, _jetEta, _cut_jetPt, _cut_jetEta):\n",
    "    _jetIndices = []\n",
    "    _nJets = 0\n",
    "    \n",
    "    for iJet in range(0, len(_jetPt)): \n",
    "        if _jetPt[iJet] > _cut_jetPt and abs(_jetEta[iJet]) < _cut_jetEta:\n",
    "            _jetIndices.append(iJet)\n",
    "            _nJets += 1\n",
    "            \n",
    "    return _nJets, _jetIndices"
   ]
  },
  {
   "cell_type": "code",
   "execution_count": 111,
   "metadata": {},
   "outputs": [],
   "source": [
    "def getDictOfQuarksMatchedToJets(_quarkIndices, _jetIndices, _genPt, _genEta, _genPhi, _genMass, _jetPt, _jetEta, _jetPhi, _jetMass): \n",
    "    _matchedQuarksToJets = {}\n",
    "    _dictOfJetVectors = {}\n",
    "    _dictOfQuarkVectors = {}\n",
    "    \n",
    "    for iQuark in _quarkIndices:\n",
    "        tlv_quark = TLorentzVector.PtEtaPhiMassLorentzVector( _genPt[iQuark], _genEta[iQuark], _genPhi[iQuark], _genMass[iQuark])\n",
    "        if iQuark not in _dictOfQuarkVectors.keys():\n",
    "            _dictOfQuarkVectors[iQuark] = tlv_quark\n",
    "            \n",
    "        for iJet in _jetIndices:\n",
    "            tlv_jet = TLorentzVector.PtEtaPhiMassLorentzVector( _jetPt[iJet], _jetEta[iJet], _jetPhi[iJet], _jetMass[iJet])\n",
    "            if iJet not in _dictOfJetVectors.keys():\n",
    "                _dictOfJetVectors[iJet] = tlv_jet\n",
    "        \n",
    "            # skip jets\n",
    "            if tlv_quark.delta_r( tlv_jet) > dR_cut_quarkToJet:\n",
    "                continue\n",
    "\n",
    "            if iQuark not in _matchedQuarksToJets.keys():\n",
    "                _matchedQuarksToJets.update({iQuark:[iJet]})\n",
    "            else:\n",
    "                _matchedQuarksToJets[iQuark].append(iJet)\n",
    "\n",
    "    return _matchedQuarksToJets, _dictOfJetVectors, _dictOfQuarkVectors\n",
    "\n"
   ]
  },
  {
   "cell_type": "code",
   "execution_count": 135,
   "metadata": {},
   "outputs": [],
   "source": [
    "def returnDeltaR(_jetIndexTuple):\n",
    "    return 0\n",
    "    \n",
    "\n",
    "def selectPairsViaMatchingAlgorithm(_jetVectorDict, _matchingAlgorithm):\n",
    "\n",
    "    _jetPairs = list(itertools.combinations(_jetVectorDict.keys(),2))\n",
    "    _doubleJetPairs = {}\n",
    "    \n",
    "    for pair in _jetPairs:\n",
    "        _notPair = [x for x in list(_jetPairs) if pair[0] not in x and pair[1] not in x]\n",
    "        for pairOption in _notPair:\n",
    "            _sortedPairing = sorted([sorted(x) for x in [pair, pairOption]])\n",
    "            _sortedTuple = tuple(_sortedPairing[0]+_sortedPairing[1])\n",
    "\n",
    "            if _sortedTuple not in _doubleJetPairs.keys():\n",
    "                _doubleJetPairs[_sortedTuple]=0\n",
    "\n",
    "    #print(len(_doubleJetPairs), len(_jetVectorDict))\n",
    "    #print(_doubleJetPairs)\n",
    "    return 0,1"
   ]
  },
  {
   "cell_type": "code",
   "execution_count": 136,
   "metadata": {},
   "outputs": [
    {
     "name": "stdout",
     "output_type": "stream",
     "text": [
      "Analyzing event number 0\n",
      "Number of Events with >= 4 jet: 31\n",
      "Number of Events with == 4 jet: 9\n",
      "Number of Events with 4 truth-matchable jets: 12\n"
     ]
    }
   ],
   "source": [
    "nEventsWithExactly4Jets = 0\n",
    "nEventsWithAtLeast4Jets = 0\n",
    "nEventsWith4MatchableJets = 0\n",
    "\n",
    "for iEvt in range(0,delphes_hh.fEntries):\n",
    "    # *** 0. Kick-out condition for testing\n",
    "    if iEvt > 40 and testRun is True:\n",
    "        continue\n",
    "    if iEvt%2000==0:\n",
    "        print(\"Analyzing event number\",iEvt)\n",
    "    \n",
    "    # *** 1. Get truth information\n",
    "    indicesByStatus    = returnListOfTruthBQuarkIndicesByStatus(l_genStatus[iEvt])   \n",
    "    if len(indicesByStatus) != 4:\n",
    "        print (\"!!! WARNING: iEvt = {0} did not find 4 truth b-quarks. Only found {1} !!!\".format(iEvt, len(indicesByStatus)))\n",
    "        continue\n",
    "        \n",
    "    # *** 2. Get jet reco information\n",
    "    nJets, jetIndices = returnNumberAndListOfJetIndicesPassingCuts(l_jetPt[iEvt], l_jetEta[iEvt], 20.0, 2.5)\n",
    "    if nJets < 4: continue \n",
    "    nEventsWithAtLeast4Jets += 1\n",
    "    if nJets==4: nEventsWithExactly4Jets += 1 \n",
    "\n",
    "        \n",
    "    # *** 3. Do some matching\n",
    "    matchedQuarksToJets, jetVectorDict, quarkVectorDict = getDictOfQuarksMatchedToJets(indicesByStatus, jetIndices, l_genPt[iEvt], l_genEta[iEvt], l_genPhi[iEvt], l_genMass[iEvt], l_jetPt[iEvt], l_jetEta[iEvt], l_jetPhi[iEvt], l_jetMass[iEvt])\n",
    "    #print( matchedQuarksToJets, all(len(matchedJets) == 1 for matchedJets in matchedQuarksToJets.values()) )\n",
    "    if all(len(matchedJets) == 1 for matchedJets in matchedQuarksToJets.values()) and len(matchedQuarksToJets)==4:\n",
    "        nEventsWith4MatchableJets += 1\n",
    "    \n",
    "    \n",
    "    # *** 4. Pick two jet pairs based on some algorithm\n",
    "    jetPair1, jetPair2 = selectPairsViaMatchingAlgorithm(jetVectorDict, \"minDeltaR\")\n",
    "    \n",
    "    \n",
    "print(\"Number of Events with >= 4 jet:\",nEventsWithAtLeast4Jets)\n",
    "print(\"Number of Events with == 4 jet:\",nEventsWithExactly4Jets)\n",
    "print(\"Number of Events with 4 truth-matchable jets:\",nEventsWith4MatchableJets)\n",
    "    \n"
   ]
  },
  {
   "cell_type": "code",
   "execution_count": null,
   "metadata": {},
   "outputs": [],
   "source": []
  },
  {
   "cell_type": "code",
   "execution_count": null,
   "metadata": {},
   "outputs": [],
   "source": []
  },
  {
   "cell_type": "code",
   "execution_count": null,
   "metadata": {},
   "outputs": [],
   "source": []
  },
  {
   "cell_type": "code",
   "execution_count": 89,
   "metadata": {},
   "outputs": [
    {
     "name": "stdout",
     "output_type": "stream",
     "text": [
      "105\n",
      "{(1, 2, 3, 4): 0, (1, 2, 3, 5): 0, (1, 2, 3, 6): 0, (1, 2, 3, 7): 0, (1, 2, 4, 5): 0, (1, 2, 4, 6): 0, (1, 2, 4, 7): 0, (1, 2, 5, 6): 0, (1, 2, 5, 7): 0, (1, 2, 6, 7): 0, (1, 3, 2, 4): 0, (1, 3, 2, 5): 0, (1, 3, 2, 6): 0, (1, 3, 2, 7): 0, (1, 3, 4, 5): 0, (1, 3, 4, 6): 0, (1, 3, 4, 7): 0, (1, 3, 5, 6): 0, (1, 3, 5, 7): 0, (1, 3, 6, 7): 0, (1, 4, 2, 3): 0, (1, 4, 2, 5): 0, (1, 4, 2, 6): 0, (1, 4, 2, 7): 0, (1, 4, 3, 5): 0, (1, 4, 3, 6): 0, (1, 4, 3, 7): 0, (1, 4, 5, 6): 0, (1, 4, 5, 7): 0, (1, 4, 6, 7): 0, (1, 5, 2, 3): 0, (1, 5, 2, 4): 0, (1, 5, 2, 6): 0, (1, 5, 2, 7): 0, (1, 5, 3, 4): 0, (1, 5, 3, 6): 0, (1, 5, 3, 7): 0, (1, 5, 4, 6): 0, (1, 5, 4, 7): 0, (1, 5, 6, 7): 0, (1, 6, 2, 3): 0, (1, 6, 2, 4): 0, (1, 6, 2, 5): 0, (1, 6, 2, 7): 0, (1, 6, 3, 4): 0, (1, 6, 3, 5): 0, (1, 6, 3, 7): 0, (1, 6, 4, 5): 0, (1, 6, 4, 7): 0, (1, 6, 5, 7): 0, (1, 7, 2, 3): 0, (1, 7, 2, 4): 0, (1, 7, 2, 5): 0, (1, 7, 2, 6): 0, (1, 7, 3, 4): 0, (1, 7, 3, 5): 0, (1, 7, 3, 6): 0, (1, 7, 4, 5): 0, (1, 7, 4, 6): 0, (1, 7, 5, 6): 0, (2, 3, 4, 5): 0, (2, 3, 4, 6): 0, (2, 3, 4, 7): 0, (2, 3, 5, 6): 0, (2, 3, 5, 7): 0, (2, 3, 6, 7): 0, (2, 4, 3, 5): 0, (2, 4, 3, 6): 0, (2, 4, 3, 7): 0, (2, 4, 5, 6): 0, (2, 4, 5, 7): 0, (2, 4, 6, 7): 0, (2, 5, 3, 4): 0, (2, 5, 3, 6): 0, (2, 5, 3, 7): 0, (2, 5, 4, 6): 0, (2, 5, 4, 7): 0, (2, 5, 6, 7): 0, (2, 6, 3, 4): 0, (2, 6, 3, 5): 0, (2, 6, 3, 7): 0, (2, 6, 4, 5): 0, (2, 6, 4, 7): 0, (2, 6, 5, 7): 0, (2, 7, 3, 4): 0, (2, 7, 3, 5): 0, (2, 7, 3, 6): 0, (2, 7, 4, 5): 0, (2, 7, 4, 6): 0, (2, 7, 5, 6): 0, (3, 4, 5, 6): 0, (3, 4, 5, 7): 0, (3, 4, 6, 7): 0, (3, 5, 4, 6): 0, (3, 5, 4, 7): 0, (3, 5, 6, 7): 0, (3, 6, 4, 5): 0, (3, 6, 4, 7): 0, (3, 6, 5, 7): 0, (3, 7, 4, 5): 0, (3, 7, 4, 6): 0, (3, 7, 5, 6): 0, (4, 5, 6, 7): 0, (4, 6, 5, 7): 0, (4, 7, 5, 6): 0}\n"
     ]
    }
   ],
   "source": [
    "import itertools\n",
    "a=[1,2,3,4,5,6,7]\n",
    "pairs = list(itertools.combinations(a,2))\n",
    "#list(pairs)\n",
    "pairPairs = {}\n",
    "for two in pairs:\n",
    "    notwo = [x for x in list(pairs) if two[0] not in x and two[1] not in x]\n",
    "    for pairOption in notwo:\n",
    "        sortedPairing = sorted([sorted(x) for x in [two, pairOption]])\n",
    "        sortedTuple = tuple(sortedPairing[0]+sortedPairing[1])\n",
    "\n",
    "        if sortedTuple not in pairPairs.keys():\n",
    "            pairPairs[sortedTuple]=0\n",
    "\n",
    "print(len(pairPairs))\n",
    "print(pairPairs)\n",
    "    "
   ]
  },
  {
   "cell_type": "code",
   "execution_count": 126,
   "metadata": {},
   "outputs": [
    {
     "data": {
      "text/plain": [
       "tuple"
      ]
     },
     "execution_count": 126,
     "metadata": {},
     "output_type": "execute_result"
    }
   ],
   "source": [
    "a=[[1, 2], [3, 4]]\n",
    "b = tuple(a[0]+a[1])\n",
    "type((b[0],b[1]))"
   ]
  },
  {
   "cell_type": "code",
   "execution_count": null,
   "metadata": {},
   "outputs": [],
   "source": []
  }
 ],
 "metadata": {
  "kernelspec": {
   "display_name": "Python 3",
   "language": "python",
   "name": "python3"
  },
  "language_info": {
   "codemirror_mode": {
    "name": "ipython",
    "version": 3
   },
   "file_extension": ".py",
   "mimetype": "text/x-python",
   "name": "python",
   "nbconvert_exporter": "python",
   "pygments_lexer": "ipython3",
   "version": "3.6.8"
  }
 },
 "nbformat": 4,
 "nbformat_minor": 2
}
